{
 "cells": [
  {
   "cell_type": "markdown",
   "id": "ab176107",
   "metadata": {
    "papermill": {
     "duration": 0.008775,
     "end_time": "2023-02-20T18:05:38.435159",
     "exception": false,
     "start_time": "2023-02-20T18:05:38.426384",
     "status": "completed"
    },
    "tags": []
   },
   "source": [
    "**This notebook is an exercise in the [Python](https://www.kaggle.com/learn/python) course.  You can reference the tutorial at [this link](https://www.kaggle.com/colinmorris/functions-and-getting-help).**\n",
    "\n",
    "---\n"
   ]
  },
  {
   "cell_type": "markdown",
   "id": "a1414c4a",
   "metadata": {
    "papermill": {
     "duration": 0.004681,
     "end_time": "2023-02-20T18:05:38.445096",
     "exception": false,
     "start_time": "2023-02-20T18:05:38.440415",
     "status": "completed"
    },
    "tags": []
   },
   "source": [
    "Functions are powerful. Try writing some yourself.\n",
    "\n",
    "As before, don't forget to run the setup code below before jumping into question 1."
   ]
  },
  {
   "cell_type": "code",
   "execution_count": 1,
   "id": "223ea743",
   "metadata": {
    "_kg_hide-input": true,
    "_kg_hide-output": true,
    "execution": {
     "iopub.execute_input": "2023-02-20T18:05:38.457321Z",
     "iopub.status.busy": "2023-02-20T18:05:38.456610Z",
     "iopub.status.idle": "2023-02-20T18:05:38.507574Z",
     "shell.execute_reply": "2023-02-20T18:05:38.506260Z"
    },
    "papermill": {
     "duration": 0.060492,
     "end_time": "2023-02-20T18:05:38.510573",
     "exception": false,
     "start_time": "2023-02-20T18:05:38.450081",
     "status": "completed"
    },
    "tags": []
   },
   "outputs": [
    {
     "name": "stdout",
     "output_type": "stream",
     "text": [
      "Setup complete.\n"
     ]
    }
   ],
   "source": [
    "# SETUP. You don't need to worry for now about what this code does or how it works.\n",
    "from learntools.core import binder; binder.bind(globals())\n",
    "from learntools.python.ex2 import *\n",
    "print('Setup complete.')"
   ]
  },
  {
   "cell_type": "markdown",
   "id": "a90ddc06",
   "metadata": {
    "papermill": {
     "duration": 0.004719,
     "end_time": "2023-02-20T18:05:38.520498",
     "exception": false,
     "start_time": "2023-02-20T18:05:38.515779",
     "status": "completed"
    },
    "tags": []
   },
   "source": [
    "# 1.\n",
    "\n",
    "Complete the body of the following function according to its docstring.\n",
    "\n",
    "HINT: Python has a built-in function `round`."
   ]
  },
  {
   "cell_type": "code",
   "execution_count": 2,
   "id": "fb13ef26",
   "metadata": {
    "execution": {
     "iopub.execute_input": "2023-02-20T18:05:38.532835Z",
     "iopub.status.busy": "2023-02-20T18:05:38.532010Z",
     "iopub.status.idle": "2023-02-20T18:05:38.545014Z",
     "shell.execute_reply": "2023-02-20T18:05:38.543851Z"
    },
    "papermill": {
     "duration": 0.021687,
     "end_time": "2023-02-20T18:05:38.547373",
     "exception": false,
     "start_time": "2023-02-20T18:05:38.525686",
     "status": "completed"
    },
    "tags": []
   },
   "outputs": [
    {
     "data": {
      "application/javascript": [
       "parent.postMessage({\"jupyterEvent\": \"custom.exercise_interaction\", \"data\": {\"outcomeType\": 1, \"valueTowardsCompletion\": 0.16666666666666666, \"interactionType\": 1, \"questionType\": 2, \"questionId\": \"1_RoundFunctionProblem\", \"learnToolsVersion\": \"0.3.4\", \"failureMessage\": \"\", \"exceptionClass\": \"\", \"trace\": \"\"}}, \"*\")"
      ],
      "text/plain": [
       "<IPython.core.display.Javascript object>"
      ]
     },
     "metadata": {},
     "output_type": "display_data"
    },
    {
     "data": {
      "text/markdown": [
       "<span style=\"color:#33cc33\">Correct</span>"
      ],
      "text/plain": [
       "Correct"
      ]
     },
     "metadata": {},
     "output_type": "display_data"
    }
   ],
   "source": [
    "def round_to_two_places(num):\n",
    "    \"\"\"Return the given number rounded to two decimal places. \n",
    "    \n",
    "    >>> round_to_two_places(3.14159)\n",
    "    3.14\n",
    "    \"\"\"\n",
    "    # Replace this body with your own code.\n",
    "    # (\"pass\" is a keyword that does literally nothing. We used it as a placeholder\n",
    "    # because after we begin a code block, Python requires at least one line of code)\n",
    "    if num < 0:\n",
    "        return float(str(num)[:5])\n",
    "    else:\n",
    "        return float(str(num)[:4])\n",
    "\n",
    "# Check your answer\n",
    "q1.check()"
   ]
  },
  {
   "cell_type": "code",
   "execution_count": 3,
   "id": "cc085045",
   "metadata": {
    "execution": {
     "iopub.execute_input": "2023-02-20T18:05:38.559737Z",
     "iopub.status.busy": "2023-02-20T18:05:38.559326Z",
     "iopub.status.idle": "2023-02-20T18:05:38.564170Z",
     "shell.execute_reply": "2023-02-20T18:05:38.563030Z"
    },
    "papermill": {
     "duration": 0.013787,
     "end_time": "2023-02-20T18:05:38.566538",
     "exception": false,
     "start_time": "2023-02-20T18:05:38.552751",
     "status": "completed"
    },
    "tags": []
   },
   "outputs": [],
   "source": [
    "# Uncomment the following for a hint\n",
    "#q1.hint()\n",
    "# Or uncomment the following to peek at the solution\n",
    "#q1.solution()"
   ]
  },
  {
   "cell_type": "markdown",
   "id": "a56c1b07",
   "metadata": {
    "papermill": {
     "duration": 0.004871,
     "end_time": "2023-02-20T18:05:38.576744",
     "exception": false,
     "start_time": "2023-02-20T18:05:38.571873",
     "status": "completed"
    },
    "tags": []
   },
   "source": [
    "# 2.\n",
    "The help for `round` says that `ndigits` (the second argument) may be negative.\n",
    "What do you think will happen when it is? Try some examples in the following cell."
   ]
  },
  {
   "cell_type": "code",
   "execution_count": 4,
   "id": "fc91551b",
   "metadata": {
    "execution": {
     "iopub.execute_input": "2023-02-20T18:05:38.588949Z",
     "iopub.status.busy": "2023-02-20T18:05:38.588148Z",
     "iopub.status.idle": "2023-02-20T18:05:38.594766Z",
     "shell.execute_reply": "2023-02-20T18:05:38.593854Z"
    },
    "papermill": {
     "duration": 0.015102,
     "end_time": "2023-02-20T18:05:38.596952",
     "exception": false,
     "start_time": "2023-02-20T18:05:38.581850",
     "status": "completed"
    },
    "tags": []
   },
   "outputs": [
    {
     "data": {
      "text/plain": [
       "0.0"
      ]
     },
     "execution_count": 4,
     "metadata": {},
     "output_type": "execute_result"
    }
   ],
   "source": [
    "round_to_two_places(0)"
   ]
  },
  {
   "cell_type": "markdown",
   "id": "6d610315",
   "metadata": {
    "papermill": {
     "duration": 0.005181,
     "end_time": "2023-02-20T18:05:38.607581",
     "exception": false,
     "start_time": "2023-02-20T18:05:38.602400",
     "status": "completed"
    },
    "tags": []
   },
   "source": [
    "Can you think of a case where this would be useful?  Once you're ready, run the code cell below to see the answer and to receive credit for completing the problem."
   ]
  },
  {
   "cell_type": "code",
   "execution_count": 5,
   "id": "6dd600e9",
   "metadata": {
    "execution": {
     "iopub.execute_input": "2023-02-20T18:05:38.620476Z",
     "iopub.status.busy": "2023-02-20T18:05:38.619423Z",
     "iopub.status.idle": "2023-02-20T18:05:38.627670Z",
     "shell.execute_reply": "2023-02-20T18:05:38.626782Z"
    },
    "papermill": {
     "duration": 0.016884,
     "end_time": "2023-02-20T18:05:38.629759",
     "exception": false,
     "start_time": "2023-02-20T18:05:38.612875",
     "status": "completed"
    },
    "tags": []
   },
   "outputs": [
    {
     "data": {
      "application/javascript": [
       "parent.postMessage({\"jupyterEvent\": \"custom.exercise_interaction\", \"data\": {\"interactionType\": 3, \"questionType\": 4, \"questionId\": \"2_RoundNdigitsProblem\", \"learnToolsVersion\": \"0.3.4\", \"valueTowardsCompletion\": 0.0, \"failureMessage\": \"\", \"exceptionClass\": \"\", \"trace\": \"\", \"outcomeType\": 4}}, \"*\")"
      ],
      "text/plain": [
       "<IPython.core.display.Javascript object>"
      ]
     },
     "metadata": {},
     "output_type": "display_data"
    },
    {
     "data": {
      "text/markdown": [
       "<span style=\"color:#33cc99\">Solution:</span> As you've seen, `ndigits=-1` rounds to the nearest 10, `ndigits=-2` rounds to the nearest 100 and so on. Where might this be useful? Suppose we're dealing with large numbers:\n",
       "\n",
       "> The area of Finland is 338,424 km²  \n",
       "> The area of Greenland is 2,166,086 km²\n",
       "\n",
       "We probably don't care whether it's really 338,424, or 338,425, or 338,177. All those digits of accuracy are just distracting. We can chop them off by calling `round()` with `ndigits=-3`:\n",
       "\n",
       "> The area of Finland is 338,000 km²  \n",
       "> The area of Greenland is 2,166,000 km²\n",
       "\n",
       "(We'll talk about how we would get the commas later when we talk about string formatting :))\n"
      ],
      "text/plain": [
       "Solution: As you've seen, `ndigits=-1` rounds to the nearest 10, `ndigits=-2` rounds to the nearest 100 and so on. Where might this be useful? Suppose we're dealing with large numbers:\n",
       "\n",
       "> The area of Finland is 338,424 km²  \n",
       "> The area of Greenland is 2,166,086 km²\n",
       "\n",
       "We probably don't care whether it's really 338,424, or 338,425, or 338,177. All those digits of accuracy are just distracting. We can chop them off by calling `round()` with `ndigits=-3`:\n",
       "\n",
       "> The area of Finland is 338,000 km²  \n",
       "> The area of Greenland is 2,166,000 km²\n",
       "\n",
       "(We'll talk about how we would get the commas later when we talk about string formatting :))"
      ]
     },
     "metadata": {},
     "output_type": "display_data"
    }
   ],
   "source": [
    "# Check your answer (Run this code cell to receive credit!)\n",
    "q2.solution()"
   ]
  },
  {
   "cell_type": "markdown",
   "id": "7bfcf1db",
   "metadata": {
    "papermill": {
     "duration": 0.005288,
     "end_time": "2023-02-20T18:05:38.640833",
     "exception": false,
     "start_time": "2023-02-20T18:05:38.635545",
     "status": "completed"
    },
    "tags": []
   },
   "source": [
    "# 3.\n",
    "\n",
    "In the previous exercise, the candy-sharing friends Alice, Bob and Carol tried to split candies evenly. For the sake of their friendship, any candies left over would be smashed. For example, if they collectively bring home 91 candies, they'll take 30 each and smash 1.\n",
    "\n",
    "Below is a simple function that will calculate the number of candies to smash for *any* number of total candies.\n",
    "\n",
    "Modify it so that it optionally takes a second argument representing the number of friends the candies are being split between. If no second argument is provided, it should assume 3 friends, as before.\n",
    "\n",
    "Update the docstring to reflect this new behaviour."
   ]
  },
  {
   "cell_type": "markdown",
   "id": "112a3dc1",
   "metadata": {
    "papermill": {
     "duration": 0.005331,
     "end_time": "2023-02-20T18:05:38.651808",
     "exception": false,
     "start_time": "2023-02-20T18:05:38.646477",
     "status": "completed"
    },
    "tags": []
   },
   "source": [
    "# 4. (Optional)\n",
    "\n",
    "It may not be fun, but reading and understanding error messages will be an important part of your Python career.\n",
    "\n",
    "Each code cell below contains some commented buggy code. For each cell...\n",
    "\n",
    "1. Read the code and predict what you think will happen when it's run.\n",
    "2. Then uncomment the code and run it to see what happens. (**Tip**: In the kernel editor, you can highlight several lines and press `ctrl`+`/` to toggle commenting.)\n",
    "3. Fix the code (so that it accomplishes its intended purpose without throwing an exception)\n",
    "\n",
    "<!-- TODO: should this be autochecked? Delta is probably pretty small. -->"
   ]
  },
  {
   "cell_type": "code",
   "execution_count": 6,
   "id": "f09d13e5",
   "metadata": {
    "execution": {
     "iopub.execute_input": "2023-02-20T18:05:38.665283Z",
     "iopub.status.busy": "2023-02-20T18:05:38.664456Z",
     "iopub.status.idle": "2023-02-20T18:05:38.673338Z",
     "shell.execute_reply": "2023-02-20T18:05:38.672495Z"
    },
    "papermill": {
     "duration": 0.017916,
     "end_time": "2023-02-20T18:05:38.675320",
     "exception": false,
     "start_time": "2023-02-20T18:05:38.657404",
     "status": "completed"
    },
    "tags": []
   },
   "outputs": [
    {
     "data": {
      "application/javascript": [
       "parent.postMessage({\"jupyterEvent\": \"custom.exercise_interaction\", \"data\": {\"outcomeType\": 1, \"valueTowardsCompletion\": 0.16666666666666666, \"interactionType\": 1, \"questionType\": 2, \"questionId\": \"3_CandySmashingFunctionProblem\", \"learnToolsVersion\": \"0.3.4\", \"failureMessage\": \"\", \"exceptionClass\": \"\", \"trace\": \"\"}}, \"*\")"
      ],
      "text/plain": [
       "<IPython.core.display.Javascript object>"
      ]
     },
     "metadata": {},
     "output_type": "display_data"
    },
    {
     "data": {
      "text/markdown": [
       "<span style=\"color:#33cc33\">Correct</span>"
      ],
      "text/plain": [
       "Correct"
      ]
     },
     "metadata": {},
     "output_type": "display_data"
    }
   ],
   "source": [
    "def to_smash(total_candies, peoples = 3):\n",
    "    \"\"\"Return the number of leftover candies that must be smashed after distributing\n",
    "    the given number of candies evenly between 3 friends.\n",
    "    \n",
    "    >>> to_smash(91)\n",
    "    1\n",
    "    \"\"\"\n",
    "    return total_candies % peoples\n",
    "\n",
    "# Check your answer\n",
    "q3.check()"
   ]
  },
  {
   "cell_type": "markdown",
   "id": "9de99ac2",
   "metadata": {
    "papermill": {
     "duration": 0.005536,
     "end_time": "2023-02-20T18:05:38.686669",
     "exception": false,
     "start_time": "2023-02-20T18:05:38.681133",
     "status": "completed"
    },
    "tags": []
   },
   "source": []
  },
  {
   "cell_type": "code",
   "execution_count": 7,
   "id": "01c4c493",
   "metadata": {
    "execution": {
     "iopub.execute_input": "2023-02-20T18:05:38.702289Z",
     "iopub.status.busy": "2023-02-20T18:05:38.701522Z",
     "iopub.status.idle": "2023-02-20T18:05:38.706457Z",
     "shell.execute_reply": "2023-02-20T18:05:38.705130Z"
    },
    "papermill": {
     "duration": 0.016281,
     "end_time": "2023-02-20T18:05:38.708889",
     "exception": false,
     "start_time": "2023-02-20T18:05:38.692608",
     "status": "completed"
    },
    "tags": []
   },
   "outputs": [],
   "source": [
    "#q3.hint()"
   ]
  },
  {
   "cell_type": "code",
   "execution_count": 8,
   "id": "2d0ef0ba",
   "metadata": {
    "execution": {
     "iopub.execute_input": "2023-02-20T18:05:38.723378Z",
     "iopub.status.busy": "2023-02-20T18:05:38.722685Z",
     "iopub.status.idle": "2023-02-20T18:05:38.726688Z",
     "shell.execute_reply": "2023-02-20T18:05:38.725810Z"
    },
    "papermill": {
     "duration": 0.013767,
     "end_time": "2023-02-20T18:05:38.728792",
     "exception": false,
     "start_time": "2023-02-20T18:05:38.715025",
     "status": "completed"
    },
    "tags": []
   },
   "outputs": [],
   "source": [
    "#q3.solution()"
   ]
  },
  {
   "cell_type": "code",
   "execution_count": 9,
   "id": "594d5405",
   "metadata": {
    "execution": {
     "iopub.execute_input": "2023-02-20T18:05:38.743426Z",
     "iopub.status.busy": "2023-02-20T18:05:38.742941Z",
     "iopub.status.idle": "2023-02-20T18:05:38.749815Z",
     "shell.execute_reply": "2023-02-20T18:05:38.748995Z"
    },
    "papermill": {
     "duration": 0.017428,
     "end_time": "2023-02-20T18:05:38.752338",
     "exception": false,
     "start_time": "2023-02-20T18:05:38.734910",
     "status": "completed"
    },
    "tags": []
   },
   "outputs": [
    {
     "data": {
      "text/plain": [
       "9.99"
      ]
     },
     "execution_count": 9,
     "metadata": {},
     "output_type": "execute_result"
    }
   ],
   "source": [
    "def ruound_to_two_places(num):\n",
    "    if num < 0:\n",
    "        return float(str(num)[:5])\n",
    "    else:\n",
    "        return float(str(num)[:4])\n",
    "\n",
    "\n",
    "ruound_to_two_places(9.9999)"
   ]
  },
  {
   "cell_type": "code",
   "execution_count": 10,
   "id": "ef5d05c8",
   "metadata": {
    "execution": {
     "iopub.execute_input": "2023-02-20T18:05:38.767198Z",
     "iopub.status.busy": "2023-02-20T18:05:38.766463Z",
     "iopub.status.idle": "2023-02-20T18:05:38.771033Z",
     "shell.execute_reply": "2023-02-20T18:05:38.770238Z"
    },
    "papermill": {
     "duration": 0.01485,
     "end_time": "2023-02-20T18:05:38.773442",
     "exception": false,
     "start_time": "2023-02-20T18:05:38.758592",
     "status": "completed"
    },
    "tags": []
   },
   "outputs": [],
   "source": [
    "x = -10\n",
    "y = 5\n",
    "# Which of the two variables above has the smallest absolute value?\n",
    "smallest_abs = min(x, y)"
   ]
  },
  {
   "cell_type": "code",
   "execution_count": 11,
   "id": "f7dfaed6",
   "metadata": {
    "execution": {
     "iopub.execute_input": "2023-02-20T18:05:38.789340Z",
     "iopub.status.busy": "2023-02-20T18:05:38.788492Z",
     "iopub.status.idle": "2023-02-20T18:05:38.794869Z",
     "shell.execute_reply": "2023-02-20T18:05:38.793652Z"
    },
    "papermill": {
     "duration": 0.016642,
     "end_time": "2023-02-20T18:05:38.797067",
     "exception": false,
     "start_time": "2023-02-20T18:05:38.780425",
     "status": "completed"
    },
    "tags": []
   },
   "outputs": [
    {
     "name": "stdout",
     "output_type": "stream",
     "text": [
      "5\n"
     ]
    }
   ],
   "source": [
    "def f(x):\n",
    "    y = abs(x)\n",
    "    return y\n",
    "\n",
    "print(f(5))"
   ]
  },
  {
   "cell_type": "markdown",
   "id": "fce1e3dd",
   "metadata": {
    "papermill": {
     "duration": 0.006077,
     "end_time": "2023-02-20T18:05:38.810306",
     "exception": false,
     "start_time": "2023-02-20T18:05:38.804229",
     "status": "completed"
    },
    "tags": []
   },
   "source": [
    "# Keep Going\n",
    "\n",
    "Nice job with the code. Next up, you'll learn about *conditionals*, which you'll need to **[write interesting programs](https://www.kaggle.com/colinmorris/booleans-and-conditionals)**. "
   ]
  },
  {
   "cell_type": "markdown",
   "id": "a1cd54db",
   "metadata": {
    "papermill": {
     "duration": 0.006114,
     "end_time": "2023-02-20T18:05:38.822727",
     "exception": false,
     "start_time": "2023-02-20T18:05:38.816613",
     "status": "completed"
    },
    "tags": []
   },
   "source": [
    "---\n",
    "\n",
    "\n",
    "\n",
    "\n",
    "*Have questions or comments? Visit the [course discussion forum](https://www.kaggle.com/learn/python/discussion) to chat with other learners.*"
   ]
  }
 ],
 "metadata": {
  "kernelspec": {
   "display_name": "Python 3",
   "language": "python",
   "name": "python3"
  },
  "language_info": {
   "codemirror_mode": {
    "name": "ipython",
    "version": 3
   },
   "file_extension": ".py",
   "mimetype": "text/x-python",
   "name": "python",
   "nbconvert_exporter": "python",
   "pygments_lexer": "ipython3",
   "version": "3.7.12"
  },
  "papermill": {
   "default_parameters": {},
   "duration": 9.847455,
   "end_time": "2023-02-20T18:05:39.551903",
   "environment_variables": {},
   "exception": null,
   "input_path": "__notebook__.ipynb",
   "output_path": "__notebook__.ipynb",
   "parameters": {},
   "start_time": "2023-02-20T18:05:29.704448",
   "version": "2.3.4"
  }
 },
 "nbformat": 4,
 "nbformat_minor": 5
}
