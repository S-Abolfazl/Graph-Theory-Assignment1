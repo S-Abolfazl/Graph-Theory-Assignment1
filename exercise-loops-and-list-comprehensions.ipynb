{
 "cells": [
  {
   "cell_type": "markdown",
   "id": "618a72e0",
   "metadata": {
    "papermill": {
     "duration": 0.007069,
     "end_time": "2023-02-20T18:09:17.336634",
     "exception": false,
     "start_time": "2023-02-20T18:09:17.329565",
     "status": "completed"
    },
    "tags": []
   },
   "source": [
    "**This notebook is an exercise in the [Python](https://www.kaggle.com/learn/python) course.  You can reference the tutorial at [this link](https://www.kaggle.com/colinmorris/loops-and-list-comprehensions).**\n",
    "\n",
    "---\n"
   ]
  },
  {
   "cell_type": "markdown",
   "id": "6df4f71d",
   "metadata": {
    "papermill": {
     "duration": 0.004239,
     "end_time": "2023-02-20T18:09:17.345437",
     "exception": false,
     "start_time": "2023-02-20T18:09:17.341198",
     "status": "completed"
    },
    "tags": []
   },
   "source": [
    "With all you've learned, you can start writing much more interesting programs. See if you can solve the problems below.\n",
    "\n",
    "As always, run the setup code below before working on the questions."
   ]
  },
  {
   "cell_type": "code",
   "execution_count": 1,
   "id": "a3df077e",
   "metadata": {
    "execution": {
     "iopub.execute_input": "2023-02-20T18:09:17.356553Z",
     "iopub.status.busy": "2023-02-20T18:09:17.355824Z",
     "iopub.status.idle": "2023-02-20T18:09:17.393241Z",
     "shell.execute_reply": "2023-02-20T18:09:17.392170Z"
    },
    "papermill": {
     "duration": 0.045413,
     "end_time": "2023-02-20T18:09:17.395342",
     "exception": false,
     "start_time": "2023-02-20T18:09:17.349929",
     "status": "completed"
    },
    "tags": []
   },
   "outputs": [
    {
     "name": "stdout",
     "output_type": "stream",
     "text": [
      "Setup complete.\n"
     ]
    }
   ],
   "source": [
    "from learntools.core import binder; binder.bind(globals())\n",
    "from learntools.python.ex5 import *\n",
    "print('Setup complete.')"
   ]
  },
  {
   "cell_type": "markdown",
   "id": "c7767dab",
   "metadata": {
    "papermill": {
     "duration": 0.004381,
     "end_time": "2023-02-20T18:09:17.404555",
     "exception": false,
     "start_time": "2023-02-20T18:09:17.400174",
     "status": "completed"
    },
    "tags": []
   },
   "source": [
    "# 1.\n",
    "\n",
    "Have you ever felt debugging involved a bit of luck? The following program has a bug. Try to identify the bug and fix it."
   ]
  },
  {
   "cell_type": "code",
   "execution_count": 2,
   "id": "c32a6e93",
   "metadata": {
    "execution": {
     "iopub.execute_input": "2023-02-20T18:09:17.416122Z",
     "iopub.status.busy": "2023-02-20T18:09:17.415821Z",
     "iopub.status.idle": "2023-02-20T18:09:17.419995Z",
     "shell.execute_reply": "2023-02-20T18:09:17.419438Z"
    },
    "papermill": {
     "duration": 0.011325,
     "end_time": "2023-02-20T18:09:17.421525",
     "exception": false,
     "start_time": "2023-02-20T18:09:17.410200",
     "status": "completed"
    },
    "tags": []
   },
   "outputs": [],
   "source": [
    "def has_lucky_number(nums):\n",
    "    \"\"\"Return whether the given list of numbers is lucky. A lucky list contains\n",
    "    at least one number divisible by 7.\n",
    "    \"\"\"\n",
    "    for num in nums:\n",
    "        if num % 7 == 0:\n",
    "            return True\n",
    "        return False"
   ]
  },
  {
   "cell_type": "markdown",
   "id": "878aaa9f",
   "metadata": {
    "papermill": {
     "duration": 0.004293,
     "end_time": "2023-02-20T18:09:17.430570",
     "exception": false,
     "start_time": "2023-02-20T18:09:17.426277",
     "status": "completed"
    },
    "tags": []
   },
   "source": [
    "Try to identify the bug and fix it in the cell below:"
   ]
  },
  {
   "cell_type": "code",
   "execution_count": 3,
   "id": "efb97a63",
   "metadata": {
    "execution": {
     "iopub.execute_input": "2023-02-20T18:09:17.441104Z",
     "iopub.status.busy": "2023-02-20T18:09:17.440630Z",
     "iopub.status.idle": "2023-02-20T18:09:17.448989Z",
     "shell.execute_reply": "2023-02-20T18:09:17.448151Z"
    },
    "papermill": {
     "duration": 0.015581,
     "end_time": "2023-02-20T18:09:17.450638",
     "exception": false,
     "start_time": "2023-02-20T18:09:17.435057",
     "status": "completed"
    },
    "tags": []
   },
   "outputs": [
    {
     "data": {
      "application/javascript": [
       "parent.postMessage({\"jupyterEvent\": \"custom.exercise_interaction\", \"data\": {\"outcomeType\": 1, \"valueTowardsCompletion\": 0.25, \"interactionType\": 1, \"questionType\": 2, \"questionId\": \"1_EarlyExitDebugging\", \"learnToolsVersion\": \"0.3.4\", \"failureMessage\": \"\", \"exceptionClass\": \"\", \"trace\": \"\"}}, \"*\")"
      ],
      "text/plain": [
       "<IPython.core.display.Javascript object>"
      ]
     },
     "metadata": {},
     "output_type": "display_data"
    },
    {
     "data": {
      "text/markdown": [
       "<span style=\"color:#33cc33\">Correct:</span> \n",
       "\n",
       "Remember that `return` causes a function to exit immediately. So our original implementation always ran for just one iteration. We can only return `False` if we've looked at every element of the list (and confirmed that none of them are lucky). Though we can return early if the answer is `True`:\n",
       "\n",
       "```python\n",
       "def has_lucky_number(nums):\n",
       "    for num in nums:\n",
       "        if num % 7 == 0:\n",
       "            return True\n",
       "    # We've exhausted the list without finding a lucky number\n",
       "    return False\n",
       "```\n",
       "\n",
       "Here's a one-line version using a list comprehension with Python's `any` function (you can read about what it does by calling `help(any)`):\n",
       "\n",
       "```python\n",
       "def has_lucky_number(nums):\n",
       "    return any([num % 7 == 0 for num in nums])\n",
       "```\n"
      ],
      "text/plain": [
       "Correct: \n",
       "\n",
       "Remember that `return` causes a function to exit immediately. So our original implementation always ran for just one iteration. We can only return `False` if we've looked at every element of the list (and confirmed that none of them are lucky). Though we can return early if the answer is `True`:\n",
       "\n",
       "```python\n",
       "def has_lucky_number(nums):\n",
       "    for num in nums:\n",
       "        if num % 7 == 0:\n",
       "            return True\n",
       "    # We've exhausted the list without finding a lucky number\n",
       "    return False\n",
       "```\n",
       "\n",
       "Here's a one-line version using a list comprehension with Python's `any` function (you can read about what it does by calling `help(any)`):\n",
       "\n",
       "```python\n",
       "def has_lucky_number(nums):\n",
       "    return any([num % 7 == 0 for num in nums])\n",
       "```"
      ]
     },
     "metadata": {},
     "output_type": "display_data"
    }
   ],
   "source": [
    "def has_lucky_number(nums):\n",
    "    \"\"\"Return whether the given list of numbers is lucky. A lucky list contains\n",
    "    at least one number divisible by 7.\n",
    "    \"\"\"\n",
    "    for num in nums:\n",
    "        if num % 7 == 0:\n",
    "            return True\n",
    "    return False\n",
    "\n",
    "# Check your answer\n",
    "q1.check()"
   ]
  },
  {
   "cell_type": "code",
   "execution_count": 4,
   "id": "43263ad4",
   "metadata": {
    "execution": {
     "iopub.execute_input": "2023-02-20T18:09:17.461015Z",
     "iopub.status.busy": "2023-02-20T18:09:17.460758Z",
     "iopub.status.idle": "2023-02-20T18:09:17.463987Z",
     "shell.execute_reply": "2023-02-20T18:09:17.463245Z"
    },
    "papermill": {
     "duration": 0.010008,
     "end_time": "2023-02-20T18:09:17.465475",
     "exception": false,
     "start_time": "2023-02-20T18:09:17.455467",
     "status": "completed"
    },
    "tags": []
   },
   "outputs": [],
   "source": [
    "#q1.hint()\n",
    "#q1.solution()"
   ]
  },
  {
   "cell_type": "markdown",
   "id": "b933a47d",
   "metadata": {
    "papermill": {
     "duration": 0.004506,
     "end_time": "2023-02-20T18:09:17.474766",
     "exception": false,
     "start_time": "2023-02-20T18:09:17.470260",
     "status": "completed"
    },
    "tags": []
   },
   "source": [
    "# 2.\n",
    "Look at the Python expression below. What do you think we'll get when we run it? When you've made your prediction, uncomment the code and run the cell to see if you were right."
   ]
  },
  {
   "cell_type": "code",
   "execution_count": 5,
   "id": "b5509531",
   "metadata": {
    "execution": {
     "iopub.execute_input": "2023-02-20T18:09:17.485058Z",
     "iopub.status.busy": "2023-02-20T18:09:17.484806Z",
     "iopub.status.idle": "2023-02-20T18:09:17.488369Z",
     "shell.execute_reply": "2023-02-20T18:09:17.487602Z"
    },
    "papermill": {
     "duration": 0.010483,
     "end_time": "2023-02-20T18:09:17.489922",
     "exception": false,
     "start_time": "2023-02-20T18:09:17.479439",
     "status": "completed"
    },
    "tags": []
   },
   "outputs": [],
   "source": [
    "# [x for x in [1, 2, 3, 4]] > 2"
   ]
  },
  {
   "cell_type": "markdown",
   "id": "c188f4c0",
   "metadata": {
    "papermill": {
     "duration": 0.004488,
     "end_time": "2023-02-20T18:09:17.499110",
     "exception": false,
     "start_time": "2023-02-20T18:09:17.494622",
     "status": "completed"
    },
    "tags": []
   },
   "source": [
    "R and Python have some libraries (like numpy and pandas) compare each element of the list to 2 (i.e. do an 'element-wise' comparison) and give us a list of booleans like `[False, False, True, True]`. \n",
    "\n",
    "Implement a function that reproduces this behaviour, returning a list of booleans corresponding to whether the corresponding element is greater than n."
   ]
  },
  {
   "cell_type": "code",
   "execution_count": 6,
   "id": "bcd53ea7",
   "metadata": {
    "execution": {
     "iopub.execute_input": "2023-02-20T18:09:17.509480Z",
     "iopub.status.busy": "2023-02-20T18:09:17.509196Z",
     "iopub.status.idle": "2023-02-20T18:09:17.516238Z",
     "shell.execute_reply": "2023-02-20T18:09:17.515707Z"
    },
    "papermill": {
     "duration": 0.013902,
     "end_time": "2023-02-20T18:09:17.517749",
     "exception": false,
     "start_time": "2023-02-20T18:09:17.503847",
     "status": "completed"
    },
    "tags": []
   },
   "outputs": [
    {
     "data": {
      "application/javascript": [
       "parent.postMessage({\"jupyterEvent\": \"custom.exercise_interaction\", \"data\": {\"outcomeType\": 1, \"valueTowardsCompletion\": 0.25, \"interactionType\": 1, \"questionType\": 2, \"questionId\": \"2_ElementWiseComparison\", \"learnToolsVersion\": \"0.3.4\", \"failureMessage\": \"\", \"exceptionClass\": \"\", \"trace\": \"\"}}, \"*\")"
      ],
      "text/plain": [
       "<IPython.core.display.Javascript object>"
      ]
     },
     "metadata": {},
     "output_type": "display_data"
    },
    {
     "data": {
      "text/markdown": [
       "<span style=\"color:#33cc33\">Correct:</span> \n",
       "\n",
       "Here's one solution:\n",
       "```python\n",
       "def elementwise_greater_than(L, thresh):\n",
       "    res = []\n",
       "    for ele in L:\n",
       "        res.append(ele > thresh)\n",
       "    return res\n",
       "```\n",
       "\n",
       "And here's the list comprehension version:\n",
       "```python\n",
       "def elementwise_greater_than(L, thresh):\n",
       "    return [ele > thresh for ele in L]\n",
       "```\n"
      ],
      "text/plain": [
       "Correct: \n",
       "\n",
       "Here's one solution:\n",
       "```python\n",
       "def elementwise_greater_than(L, thresh):\n",
       "    res = []\n",
       "    for ele in L:\n",
       "        res.append(ele > thresh)\n",
       "    return res\n",
       "```\n",
       "\n",
       "And here's the list comprehension version:\n",
       "```python\n",
       "def elementwise_greater_than(L, thresh):\n",
       "    return [ele > thresh for ele in L]\n",
       "```"
      ]
     },
     "metadata": {},
     "output_type": "display_data"
    }
   ],
   "source": [
    "def elementwise_greater_than(L, thresh):\n",
    "    \"\"\"Return a list with the same length as L, where the value at index i is \n",
    "    True if L[i] is greater than thresh, and False otherwise.\n",
    "    \n",
    "    >>> elementwise_greater_than([1, 2, 3, 4], 2)\n",
    "    [False, False, True, True]\n",
    "    \"\"\"\n",
    "    result = list()\n",
    "    for num in L:\n",
    "        if num > thresh: \n",
    "            result.append(True)\n",
    "        else:\n",
    "            result.append(False)\n",
    "    return result\n",
    "# Check your answer\n",
    "q2.check()"
   ]
  },
  {
   "cell_type": "code",
   "execution_count": 7,
   "id": "23a3544c",
   "metadata": {
    "execution": {
     "iopub.execute_input": "2023-02-20T18:09:17.529027Z",
     "iopub.status.busy": "2023-02-20T18:09:17.528116Z",
     "iopub.status.idle": "2023-02-20T18:09:17.532426Z",
     "shell.execute_reply": "2023-02-20T18:09:17.531601Z"
    },
    "papermill": {
     "duration": 0.011588,
     "end_time": "2023-02-20T18:09:17.534203",
     "exception": false,
     "start_time": "2023-02-20T18:09:17.522615",
     "status": "completed"
    },
    "tags": []
   },
   "outputs": [],
   "source": [
    "#q2.solution()"
   ]
  },
  {
   "cell_type": "markdown",
   "id": "5ce3272d",
   "metadata": {
    "papermill": {
     "duration": 0.004957,
     "end_time": "2023-02-20T18:09:17.544629",
     "exception": false,
     "start_time": "2023-02-20T18:09:17.539672",
     "status": "completed"
    },
    "tags": []
   },
   "source": [
    "# 3.\n",
    "\n",
    "Complete the body of the function below according to its docstring."
   ]
  },
  {
   "cell_type": "code",
   "execution_count": 8,
   "id": "274d1248",
   "metadata": {
    "execution": {
     "iopub.execute_input": "2023-02-20T18:09:17.555848Z",
     "iopub.status.busy": "2023-02-20T18:09:17.555549Z",
     "iopub.status.idle": "2023-02-20T18:09:17.565633Z",
     "shell.execute_reply": "2023-02-20T18:09:17.564547Z"
    },
    "papermill": {
     "duration": 0.017531,
     "end_time": "2023-02-20T18:09:17.567141",
     "exception": false,
     "start_time": "2023-02-20T18:09:17.549610",
     "status": "completed"
    },
    "tags": []
   },
   "outputs": [
    {
     "name": "stdout",
     "output_type": "stream",
     "text": [
      "2\n",
      "4\n",
      "6\n",
      "2\n",
      "2\n",
      "1\n",
      "0\n"
     ]
    },
    {
     "data": {
      "application/javascript": [
       "parent.postMessage({\"jupyterEvent\": \"custom.exercise_interaction\", \"data\": {\"outcomeType\": 1, \"valueTowardsCompletion\": 0.25, \"interactionType\": 1, \"questionType\": 2, \"questionId\": \"3_BoringMenu\", \"learnToolsVersion\": \"0.3.4\", \"failureMessage\": \"\", \"exceptionClass\": \"\", \"trace\": \"\"}}, \"*\")"
      ],
      "text/plain": [
       "<IPython.core.display.Javascript object>"
      ]
     },
     "metadata": {},
     "output_type": "display_data"
    },
    {
     "data": {
      "text/markdown": [
       "<span style=\"color:#33cc33\">Correct:</span> \n",
       "\n",
       "\n",
       "\n",
       "```python\n",
       "def menu_is_boring(meals):\n",
       "    # Iterate over all indices of the list, except the last one\n",
       "    for i in range(len(meals)-1):\n",
       "        if meals[i] == meals[i+1]:\n",
       "            return True\n",
       "    return False\n",
       "```\n",
       "\n",
       "The key to our solution is the call to `range`. `range(len(meals))` would give us all the indices of `meals`. If we had used that range, the last iteration of the loop would be comparing the last element to the element after it, which is... `IndexError`! `range(len(meals)-1)` gives us all the indices except the index of the last element.\n",
       "\n",
       "But don't we need to check if `meals` is empty? Turns out that `range(0) == range(-1)` - they're both empty. So if `meals` has length 0 or 1, we just won't do any iterations of our for loop.\n"
      ],
      "text/plain": [
       "Correct: \n",
       "\n",
       "\n",
       "\n",
       "```python\n",
       "def menu_is_boring(meals):\n",
       "    # Iterate over all indices of the list, except the last one\n",
       "    for i in range(len(meals)-1):\n",
       "        if meals[i] == meals[i+1]:\n",
       "            return True\n",
       "    return False\n",
       "```\n",
       "\n",
       "The key to our solution is the call to `range`. `range(len(meals))` would give us all the indices of `meals`. If we had used that range, the last iteration of the loop would be comparing the last element to the element after it, which is... `IndexError`! `range(len(meals)-1)` gives us all the indices except the index of the last element.\n",
       "\n",
       "But don't we need to check if `meals` is empty? Turns out that `range(0) == range(-1)` - they're both empty. So if `meals` has length 0 or 1, we just won't do any iterations of our for loop."
      ]
     },
     "metadata": {},
     "output_type": "display_data"
    }
   ],
   "source": [
    "def menu_is_boring(meals):\n",
    "    \"\"\"Given a list of meals served over some period of time, return True if the\n",
    "    same meal has ever been served two days in a row, and False otherwise.\n",
    "    \"\"\"\n",
    "    print(len(meals))\n",
    "    if len(meals) == 1:\n",
    "        return False\n",
    "    mealYesterday = \"\"\n",
    "    for meal in meals:\n",
    "#         if meal==\"Spam\":\n",
    "#             counter = 0\n",
    "        if  meal == mealYesterday:\n",
    "            return True\n",
    "        mealYesterday = meal\n",
    "    \n",
    "    return False\n",
    "# Check your answer\n",
    "q3.check()"
   ]
  },
  {
   "cell_type": "code",
   "execution_count": 9,
   "id": "fc439161",
   "metadata": {
    "execution": {
     "iopub.execute_input": "2023-02-20T18:09:17.578987Z",
     "iopub.status.busy": "2023-02-20T18:09:17.578600Z",
     "iopub.status.idle": "2023-02-20T18:09:17.584492Z",
     "shell.execute_reply": "2023-02-20T18:09:17.583919Z"
    },
    "papermill": {
     "duration": 0.013365,
     "end_time": "2023-02-20T18:09:17.585894",
     "exception": false,
     "start_time": "2023-02-20T18:09:17.572529",
     "status": "completed"
    },
    "tags": []
   },
   "outputs": [
    {
     "data": {
      "application/javascript": [
       "parent.postMessage({\"jupyterEvent\": \"custom.exercise_interaction\", \"data\": {\"interactionType\": 2, \"questionType\": 2, \"questionId\": \"3_BoringMenu\", \"learnToolsVersion\": \"0.3.4\", \"valueTowardsCompletion\": 0.0, \"failureMessage\": \"\", \"exceptionClass\": \"\", \"trace\": \"\", \"outcomeType\": 4}}, \"*\")"
      ],
      "text/plain": [
       "<IPython.core.display.Javascript object>"
      ]
     },
     "metadata": {},
     "output_type": "display_data"
    },
    {
     "data": {
      "text/markdown": [
       "<span style=\"color:#3366cc\">Hint:</span> This is a case where it may be preferable to iterate over the *indices* of the list (using a call to `range()`) rather than iterating over the elements of the list itself. When indexing into the list, be mindful that you're not \"falling off the end\" (i.e. using an index that doesn't exist)."
      ],
      "text/plain": [
       "Hint: This is a case where it may be preferable to iterate over the *indices* of the list (using a call to `range()`) rather than iterating over the elements of the list itself. When indexing into the list, be mindful that you're not \"falling off the end\" (i.e. using an index that doesn't exist)."
      ]
     },
     "metadata": {},
     "output_type": "display_data"
    }
   ],
   "source": [
    "q3.hint()\n",
    "#q3.solution()"
   ]
  },
  {
   "cell_type": "markdown",
   "id": "ee6d4609",
   "metadata": {
    "papermill": {
     "duration": 0.005283,
     "end_time": "2023-02-20T18:09:17.596861",
     "exception": false,
     "start_time": "2023-02-20T18:09:17.591578",
     "status": "completed"
    },
    "tags": []
   },
   "source": [
    "# 4. <span title=\"A bit spicy\" style=\"color: darkgreen \">🌶️</span>\n",
    "\n",
    "Next to the Blackjack table, the Python Challenge Casino has a slot machine. You can get a result from the slot machine by calling `play_slot_machine()`. The number it returns is your winnings in dollars. Usually it returns 0.  But sometimes you'll get lucky and get a big payday. Try running it below:"
   ]
  },
  {
   "cell_type": "code",
   "execution_count": 10,
   "id": "06498128",
   "metadata": {
    "execution": {
     "iopub.execute_input": "2023-02-20T18:09:17.609092Z",
     "iopub.status.busy": "2023-02-20T18:09:17.608835Z",
     "iopub.status.idle": "2023-02-20T18:09:17.613175Z",
     "shell.execute_reply": "2023-02-20T18:09:17.612624Z"
    },
    "papermill": {
     "duration": 0.012375,
     "end_time": "2023-02-20T18:09:17.614685",
     "exception": false,
     "start_time": "2023-02-20T18:09:17.602310",
     "status": "completed"
    },
    "tags": []
   },
   "outputs": [
    {
     "data": {
      "text/plain": [
       "1.5"
      ]
     },
     "execution_count": 10,
     "metadata": {},
     "output_type": "execute_result"
    }
   ],
   "source": [
    "play_slot_machine()"
   ]
  },
  {
   "cell_type": "markdown",
   "id": "464e1a32",
   "metadata": {
    "papermill": {
     "duration": 0.005356,
     "end_time": "2023-02-20T18:09:17.625744",
     "exception": false,
     "start_time": "2023-02-20T18:09:17.620388",
     "status": "completed"
    },
    "tags": []
   },
   "source": [
    "By the way, did we mention that each play costs $1? Don't worry, we'll send you the bill later.\n",
    "\n",
    "On average, how much money can you expect to gain (or lose) every time you play the machine?  The casino keeps it a secret, but you can estimate the average value of each pull using a technique called the **Monte Carlo method**. To estimate the average outcome, we simulate the scenario many times, and return the average result.\n",
    "\n",
    "Complete the following function to calculate the average value per play of the slot machine."
   ]
  },
  {
   "cell_type": "code",
   "execution_count": 11,
   "id": "df26b18c",
   "metadata": {
    "execution": {
     "iopub.execute_input": "2023-02-20T18:09:17.637956Z",
     "iopub.status.busy": "2023-02-20T18:09:17.637741Z",
     "iopub.status.idle": "2023-02-20T18:09:17.978606Z",
     "shell.execute_reply": "2023-02-20T18:09:17.977644Z"
    },
    "papermill": {
     "duration": 0.349024,
     "end_time": "2023-02-20T18:09:17.980380",
     "exception": false,
     "start_time": "2023-02-20T18:09:17.631356",
     "status": "completed"
    },
    "tags": []
   },
   "outputs": [
    {
     "data": {
      "text/plain": [
       "0.018688"
      ]
     },
     "execution_count": 11,
     "metadata": {},
     "output_type": "execute_result"
    }
   ],
   "source": [
    "def estimate_average_slot_payout(n_runs):\n",
    "    \"\"\"Run the slot machine n_runs times and return the average net profit per run.\n",
    "    Example calls (note that return value is nondeterministic!):\n",
    "    >>> estimate_average_slot_payout(1)\n",
    "    -1\n",
    "    >>> estimate_average_slot_payout(1)\n",
    "    0.5\n",
    "    \"\"\"\n",
    "    num = 0\n",
    "    for i in range(n_runs):\n",
    "        num += play_slot_machine() - 1\n",
    "    return num/n_runs\n",
    "\n",
    "estimate_average_slot_payout(1000000)"
   ]
  },
  {
   "cell_type": "markdown",
   "id": "0662cfe2",
   "metadata": {
    "papermill": {
     "duration": 0.005694,
     "end_time": "2023-02-20T18:09:17.992178",
     "exception": false,
     "start_time": "2023-02-20T18:09:17.986484",
     "status": "completed"
    },
    "tags": []
   },
   "source": [
    "When you think you know the expected value per spin, run the code cell below to view the solution and get credit for answering the question."
   ]
  },
  {
   "cell_type": "code",
   "execution_count": 12,
   "id": "90eeb60e",
   "metadata": {
    "execution": {
     "iopub.execute_input": "2023-02-20T18:09:18.005120Z",
     "iopub.status.busy": "2023-02-20T18:09:18.004808Z",
     "iopub.status.idle": "2023-02-20T18:09:18.011321Z",
     "shell.execute_reply": "2023-02-20T18:09:18.010538Z"
    },
    "papermill": {
     "duration": 0.015559,
     "end_time": "2023-02-20T18:09:18.013569",
     "exception": false,
     "start_time": "2023-02-20T18:09:17.998010",
     "status": "completed"
    },
    "tags": []
   },
   "outputs": [
    {
     "data": {
      "application/javascript": [
       "parent.postMessage({\"jupyterEvent\": \"custom.exercise_interaction\", \"data\": {\"interactionType\": 3, \"questionType\": 4, \"questionId\": \"4_ExpectedSlotsPayout\", \"learnToolsVersion\": \"0.3.4\", \"valueTowardsCompletion\": 0.0, \"failureMessage\": \"\", \"exceptionClass\": \"\", \"trace\": \"\", \"outcomeType\": 4}}, \"*\")"
      ],
      "text/plain": [
       "<IPython.core.display.Javascript object>"
      ]
     },
     "metadata": {},
     "output_type": "display_data"
    },
    {
     "data": {
      "text/markdown": [
       "<span style=\"color:#33cc99\">Solution:</span> \n",
       "    \n",
       "The exact expected value of one pull of the slot machine is 0.025 - i.e. a little more than 2 cents.  See?  Not every game in the Python Challenge Casino is rigged against the player!\n",
       "\n",
       "In order to get this answer, you'll need to implement the `estimate_average_slot_payout(n_runs)` function to simulate pulling the slot machine `n_runs` times.  It should return the payout averaged over those `n_runs`.\n",
       "\n",
       "Then, once the function is defined, in order to estimate the average slot payout, we need only call the function.\n",
       "\n",
       "Because of the high variance of the outcome (there are some very rare high payout results that significantly affect the average) you might need to run your function with a very high value of `n_runs` to get a stable answer close to the true expectation.  For instance, you might use a value for `n_runs` of 1000000.\n",
       "\n",
       "Here's an example for how the function could look:\n",
       "```python\n",
       "def estimate_average_slot_payout(n_runs):\n",
       "    # Play slot machine n_runs times, calculate payout of each\n",
       "    payouts = [play_slot_machine()-1 for i in range(n_runs)]\n",
       "    # Calculate the average value\n",
       "    avg_payout = sum(payouts) / n_runs\n",
       "    return avg_payout\n",
       "    \n",
       "estimate_average_slot_payout(10000000)\n",
       "\n",
       "```\n",
       "\n",
       "This should return an answer close to 0.025!\n",
       "            \n"
      ],
      "text/plain": [
       "Solution: \n",
       "    \n",
       "The exact expected value of one pull of the slot machine is 0.025 - i.e. a little more than 2 cents.  See?  Not every game in the Python Challenge Casino is rigged against the player!\n",
       "\n",
       "In order to get this answer, you'll need to implement the `estimate_average_slot_payout(n_runs)` function to simulate pulling the slot machine `n_runs` times.  It should return the payout averaged over those `n_runs`.\n",
       "\n",
       "Then, once the function is defined, in order to estimate the average slot payout, we need only call the function.\n",
       "\n",
       "Because of the high variance of the outcome (there are some very rare high payout results that significantly affect the average) you might need to run your function with a very high value of `n_runs` to get a stable answer close to the true expectation.  For instance, you might use a value for `n_runs` of 1000000.\n",
       "\n",
       "Here's an example for how the function could look:\n",
       "```python\n",
       "def estimate_average_slot_payout(n_runs):\n",
       "    # Play slot machine n_runs times, calculate payout of each\n",
       "    payouts = [play_slot_machine()-1 for i in range(n_runs)]\n",
       "    # Calculate the average value\n",
       "    avg_payout = sum(payouts) / n_runs\n",
       "    return avg_payout\n",
       "    \n",
       "estimate_average_slot_payout(10000000)\n",
       "\n",
       "```\n",
       "\n",
       "This should return an answer close to 0.025!\n",
       "            "
      ]
     },
     "metadata": {},
     "output_type": "display_data"
    }
   ],
   "source": [
    "# Check your answer (Run this code cell to receive credit!)\n",
    "q4.solution()"
   ]
  },
  {
   "cell_type": "markdown",
   "id": "5ec775ea",
   "metadata": {
    "papermill": {
     "duration": 0.005807,
     "end_time": "2023-02-20T18:09:18.025518",
     "exception": false,
     "start_time": "2023-02-20T18:09:18.019711",
     "status": "completed"
    },
    "tags": []
   },
   "source": [
    "# Keep Going\n",
    "\n",
    "Many programmers report that dictionaries are their favorite data structure. You'll get to **[learn about them](https://www.kaggle.com/colinmorris/strings-and-dictionaries)** (as well as strings) in the next lesson."
   ]
  },
  {
   "cell_type": "markdown",
   "id": "9126f769",
   "metadata": {
    "papermill": {
     "duration": 0.005795,
     "end_time": "2023-02-20T18:09:18.037261",
     "exception": false,
     "start_time": "2023-02-20T18:09:18.031466",
     "status": "completed"
    },
    "tags": []
   },
   "source": [
    "---\n",
    "\n",
    "\n",
    "\n",
    "\n",
    "*Have questions or comments? Visit the [course discussion forum](https://www.kaggle.com/learn/python/discussion) to chat with other learners.*"
   ]
  }
 ],
 "metadata": {
  "kernelspec": {
   "display_name": "Python 3",
   "language": "python",
   "name": "python3"
  },
  "language_info": {
   "codemirror_mode": {
    "name": "ipython",
    "version": 3
   },
   "file_extension": ".py",
   "mimetype": "text/x-python",
   "name": "python",
   "nbconvert_exporter": "python",
   "pygments_lexer": "ipython3",
   "version": "3.7.12"
  },
  "papermill": {
   "default_parameters": {},
   "duration": 7.503063,
   "end_time": "2023-02-20T18:09:18.560726",
   "environment_variables": {},
   "exception": null,
   "input_path": "__notebook__.ipynb",
   "output_path": "__notebook__.ipynb",
   "parameters": {},
   "start_time": "2023-02-20T18:09:11.057663",
   "version": "2.3.4"
  }
 },
 "nbformat": 4,
 "nbformat_minor": 5
}
