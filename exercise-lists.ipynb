{
 "cells": [
  {
   "cell_type": "markdown",
   "id": "a6811b83",
   "metadata": {
    "papermill": {
     "duration": 0.008843,
     "end_time": "2023-02-20T18:08:20.964484",
     "exception": false,
     "start_time": "2023-02-20T18:08:20.955641",
     "status": "completed"
    },
    "tags": []
   },
   "source": [
    "**This notebook is an exercise in the [Python](https://www.kaggle.com/learn/python) course.  You can reference the tutorial at [this link](https://www.kaggle.com/colinmorris/lists).**\n",
    "\n",
    "---\n"
   ]
  },
  {
   "cell_type": "markdown",
   "id": "6b2a4fce",
   "metadata": {
    "papermill": {
     "duration": 0.004575,
     "end_time": "2023-02-20T18:08:20.974165",
     "exception": false,
     "start_time": "2023-02-20T18:08:20.969590",
     "status": "completed"
    },
    "tags": []
   },
   "source": [
    "Things get more interesting with lists. You'll apply your new knowledge to solve the questions below. Remember to run the following cell first."
   ]
  },
  {
   "cell_type": "code",
   "execution_count": 1,
   "id": "ce31ede6",
   "metadata": {
    "execution": {
     "iopub.execute_input": "2023-02-20T18:08:20.987116Z",
     "iopub.status.busy": "2023-02-20T18:08:20.985881Z",
     "iopub.status.idle": "2023-02-20T18:08:21.038511Z",
     "shell.execute_reply": "2023-02-20T18:08:21.037285Z"
    },
    "papermill": {
     "duration": 0.062206,
     "end_time": "2023-02-20T18:08:21.041391",
     "exception": false,
     "start_time": "2023-02-20T18:08:20.979185",
     "status": "completed"
    },
    "tags": []
   },
   "outputs": [
    {
     "name": "stdout",
     "output_type": "stream",
     "text": [
      "Setup complete.\n"
     ]
    }
   ],
   "source": [
    "from learntools.core import binder; binder.bind(globals())\n",
    "from learntools.python.ex4 import *\n",
    "print('Setup complete.')"
   ]
  },
  {
   "cell_type": "markdown",
   "id": "206cc6ea",
   "metadata": {
    "papermill": {
     "duration": 0.004712,
     "end_time": "2023-02-20T18:08:21.051257",
     "exception": false,
     "start_time": "2023-02-20T18:08:21.046545",
     "status": "completed"
    },
    "tags": []
   },
   "source": [
    "# 1.\n",
    "\n",
    "Complete the function below according to its docstring."
   ]
  },
  {
   "cell_type": "code",
   "execution_count": 2,
   "id": "275ef1b1",
   "metadata": {
    "execution": {
     "iopub.execute_input": "2023-02-20T18:08:21.063109Z",
     "iopub.status.busy": "2023-02-20T18:08:21.062689Z",
     "iopub.status.idle": "2023-02-20T18:08:21.075602Z",
     "shell.execute_reply": "2023-02-20T18:08:21.074518Z"
    },
    "papermill": {
     "duration": 0.021607,
     "end_time": "2023-02-20T18:08:21.077813",
     "exception": false,
     "start_time": "2023-02-20T18:08:21.056206",
     "status": "completed"
    },
    "tags": []
   },
   "outputs": [
    {
     "data": {
      "application/javascript": [
       "parent.postMessage({\"jupyterEvent\": \"custom.exercise_interaction\", \"data\": {\"outcomeType\": 1, \"valueTowardsCompletion\": 0.2, \"interactionType\": 1, \"questionType\": 2, \"questionId\": \"1_SelectSecondItem\", \"learnToolsVersion\": \"0.3.4\", \"failureMessage\": \"\", \"exceptionClass\": \"\", \"trace\": \"\"}}, \"*\")"
      ],
      "text/plain": [
       "<IPython.core.display.Javascript object>"
      ]
     },
     "metadata": {},
     "output_type": "display_data"
    },
    {
     "data": {
      "text/markdown": [
       "<span style=\"color:#33cc33\">Correct</span>"
      ],
      "text/plain": [
       "Correct"
      ]
     },
     "metadata": {},
     "output_type": "display_data"
    }
   ],
   "source": [
    "def select_second(L):\n",
    "    \"\"\"Return the second element of the given list. If the list has no second\n",
    "    element, return None.\n",
    "    \"\"\"\n",
    "    if len(L) >= 2:\n",
    "        return L[1]\n",
    "    else:\n",
    "        return None\n",
    "\n",
    "# Check your answer\n",
    "q1.check()"
   ]
  },
  {
   "cell_type": "code",
   "execution_count": 3,
   "id": "0e5df4fd",
   "metadata": {
    "collapsed": true,
    "execution": {
     "iopub.execute_input": "2023-02-20T18:08:21.090357Z",
     "iopub.status.busy": "2023-02-20T18:08:21.089738Z",
     "iopub.status.idle": "2023-02-20T18:08:21.093422Z",
     "shell.execute_reply": "2023-02-20T18:08:21.092574Z"
    },
    "jupyter": {
     "outputs_hidden": true
    },
    "papermill": {
     "duration": 0.012307,
     "end_time": "2023-02-20T18:08:21.095440",
     "exception": false,
     "start_time": "2023-02-20T18:08:21.083133",
     "status": "completed"
    },
    "tags": []
   },
   "outputs": [],
   "source": [
    "#q1.hint()\n",
    "#q1.solution()"
   ]
  },
  {
   "cell_type": "markdown",
   "id": "eda37f52",
   "metadata": {
    "papermill": {
     "duration": 0.004883,
     "end_time": "2023-02-20T18:08:21.105520",
     "exception": false,
     "start_time": "2023-02-20T18:08:21.100637",
     "status": "completed"
    },
    "tags": []
   },
   "source": [
    "# 2.\n",
    "\n",
    "You are analyzing sports teams.  Members of each team are stored in a list. The Coach is the first name in the list, the captain is the second name in the list, and other players are listed after that. \n",
    "These lists are stored in another list, which starts with the best team and proceeds through the list to the worst team last.  Complete the function below to select the **captain** of the worst team."
   ]
  },
  {
   "cell_type": "code",
   "execution_count": 4,
   "id": "e1062466",
   "metadata": {
    "execution": {
     "iopub.execute_input": "2023-02-20T18:08:21.118002Z",
     "iopub.status.busy": "2023-02-20T18:08:21.117351Z",
     "iopub.status.idle": "2023-02-20T18:08:21.125884Z",
     "shell.execute_reply": "2023-02-20T18:08:21.124739Z"
    },
    "papermill": {
     "duration": 0.017565,
     "end_time": "2023-02-20T18:08:21.128316",
     "exception": false,
     "start_time": "2023-02-20T18:08:21.110751",
     "status": "completed"
    },
    "tags": []
   },
   "outputs": [
    {
     "data": {
      "application/javascript": [
       "parent.postMessage({\"jupyterEvent\": \"custom.exercise_interaction\", \"data\": {\"outcomeType\": 1, \"valueTowardsCompletion\": 0.2, \"interactionType\": 1, \"questionType\": 2, \"questionId\": \"2_LosingTeamCaptain\", \"learnToolsVersion\": \"0.3.4\", \"failureMessage\": \"\", \"exceptionClass\": \"\", \"trace\": \"\"}}, \"*\")"
      ],
      "text/plain": [
       "<IPython.core.display.Javascript object>"
      ]
     },
     "metadata": {},
     "output_type": "display_data"
    },
    {
     "data": {
      "text/markdown": [
       "<span style=\"color:#33cc33\">Correct</span>"
      ],
      "text/plain": [
       "Correct"
      ]
     },
     "metadata": {},
     "output_type": "display_data"
    }
   ],
   "source": [
    "def losing_team_captain(teams):\n",
    "    \"\"\"Given a list of teams, where each team is a list of names, return the 2nd player (captain)\n",
    "    from the last listed team\n",
    "    \"\"\"\n",
    "    return teams[len(teams) - 1][1]\n",
    "\n",
    "# Check your answer\n",
    "q2.check()"
   ]
  },
  {
   "cell_type": "code",
   "execution_count": 5,
   "id": "be5e87b5",
   "metadata": {
    "collapsed": true,
    "execution": {
     "iopub.execute_input": "2023-02-20T18:08:21.141338Z",
     "iopub.status.busy": "2023-02-20T18:08:21.140615Z",
     "iopub.status.idle": "2023-02-20T18:08:21.145250Z",
     "shell.execute_reply": "2023-02-20T18:08:21.144176Z"
    },
    "jupyter": {
     "outputs_hidden": true
    },
    "papermill": {
     "duration": 0.01395,
     "end_time": "2023-02-20T18:08:21.147812",
     "exception": false,
     "start_time": "2023-02-20T18:08:21.133862",
     "status": "completed"
    },
    "tags": []
   },
   "outputs": [],
   "source": [
    "#q2.hint()\n",
    "#q2.solution()"
   ]
  },
  {
   "cell_type": "markdown",
   "id": "d13b51fe",
   "metadata": {
    "papermill": {
     "duration": 0.005208,
     "end_time": "2023-02-20T18:08:21.158613",
     "exception": false,
     "start_time": "2023-02-20T18:08:21.153405",
     "status": "completed"
    },
    "tags": []
   },
   "source": [
    "# 3.\n",
    "\n",
    "The next iteration of Mario Kart will feature an extra-infuriating new item, the *Purple Shell*. When used, it warps the last place racer into first place and the first place racer into last place. Complete the function below to implement the Purple Shell's effect."
   ]
  },
  {
   "cell_type": "code",
   "execution_count": 6,
   "id": "e424b9d7",
   "metadata": {
    "execution": {
     "iopub.execute_input": "2023-02-20T18:08:21.171421Z",
     "iopub.status.busy": "2023-02-20T18:08:21.170958Z",
     "iopub.status.idle": "2023-02-20T18:08:21.181241Z",
     "shell.execute_reply": "2023-02-20T18:08:21.180062Z"
    },
    "papermill": {
     "duration": 0.019534,
     "end_time": "2023-02-20T18:08:21.183700",
     "exception": false,
     "start_time": "2023-02-20T18:08:21.164166",
     "status": "completed"
    },
    "tags": []
   },
   "outputs": [
    {
     "data": {
      "application/javascript": [
       "parent.postMessage({\"jupyterEvent\": \"custom.exercise_interaction\", \"data\": {\"outcomeType\": 1, \"valueTowardsCompletion\": 0.2, \"interactionType\": 1, \"questionType\": 2, \"questionId\": \"3_PurpleShell\", \"learnToolsVersion\": \"0.3.4\", \"failureMessage\": \"\", \"exceptionClass\": \"\", \"trace\": \"\"}}, \"*\")"
      ],
      "text/plain": [
       "<IPython.core.display.Javascript object>"
      ]
     },
     "metadata": {},
     "output_type": "display_data"
    },
    {
     "data": {
      "text/markdown": [
       "<span style=\"color:#33cc33\">Correct</span>"
      ],
      "text/plain": [
       "Correct"
      ]
     },
     "metadata": {},
     "output_type": "display_data"
    }
   ],
   "source": [
    "def purple_shell(racers):\n",
    "    \"\"\"Given a list of racers, set the first place racer (at the front of the list) to last\n",
    "    place and vice versa.\n",
    "    \n",
    "    >>> r = [\"Mario\", \"Bowser\", \"Luigi\"]\n",
    "    >>> purple_shell(r)\n",
    "    >>> r\n",
    "    [\"Luigi\", \"Bowser\", \"Mario\"]\n",
    "    \"\"\"\n",
    "    racers[0], racers[len(racers) - 1] = racers[len(racers) - 1], racers[0]\n",
    "    \n",
    "# Check your answer\n",
    "q3.check()"
   ]
  },
  {
   "cell_type": "code",
   "execution_count": 7,
   "id": "a31edc5d",
   "metadata": {
    "collapsed": true,
    "execution": {
     "iopub.execute_input": "2023-02-20T18:08:21.197671Z",
     "iopub.status.busy": "2023-02-20T18:08:21.196985Z",
     "iopub.status.idle": "2023-02-20T18:08:21.201329Z",
     "shell.execute_reply": "2023-02-20T18:08:21.200478Z"
    },
    "jupyter": {
     "outputs_hidden": true
    },
    "papermill": {
     "duration": 0.014,
     "end_time": "2023-02-20T18:08:21.203498",
     "exception": false,
     "start_time": "2023-02-20T18:08:21.189498",
     "status": "completed"
    },
    "tags": []
   },
   "outputs": [],
   "source": [
    "#q3.hint()\n",
    "#q3.solution()"
   ]
  },
  {
   "cell_type": "markdown",
   "id": "b5d1db1f",
   "metadata": {
    "papermill": {
     "duration": 0.005479,
     "end_time": "2023-02-20T18:08:21.214930",
     "exception": false,
     "start_time": "2023-02-20T18:08:21.209451",
     "status": "completed"
    },
    "tags": []
   },
   "source": [
    "# 4.\n",
    "\n",
    "What are the lengths of the following lists? Fill in the variable `lengths` with your predictions. (Try to make a prediction for each list *without* just calling `len()` on it.)"
   ]
  },
  {
   "cell_type": "code",
   "execution_count": 8,
   "id": "420a5c20",
   "metadata": {
    "execution": {
     "iopub.execute_input": "2023-02-20T18:08:21.228673Z",
     "iopub.status.busy": "2023-02-20T18:08:21.227977Z",
     "iopub.status.idle": "2023-02-20T18:08:21.237975Z",
     "shell.execute_reply": "2023-02-20T18:08:21.237135Z"
    },
    "papermill": {
     "duration": 0.019377,
     "end_time": "2023-02-20T18:08:21.240099",
     "exception": false,
     "start_time": "2023-02-20T18:08:21.220722",
     "status": "completed"
    },
    "tags": []
   },
   "outputs": [
    {
     "data": {
      "application/javascript": [
       "parent.postMessage({\"jupyterEvent\": \"custom.exercise_interaction\", \"data\": {\"outcomeType\": 1, \"valueTowardsCompletion\": 0.2, \"interactionType\": 1, \"questionType\": 1, \"questionId\": \"4_UnderstandLen\", \"learnToolsVersion\": \"0.3.4\", \"failureMessage\": \"\", \"exceptionClass\": \"\", \"trace\": \"\"}}, \"*\")"
      ],
      "text/plain": [
       "<IPython.core.display.Javascript object>"
      ]
     },
     "metadata": {},
     "output_type": "display_data"
    },
    {
     "data": {
      "text/markdown": [
       "<span style=\"color:#33cc33\">Correct:</span> \n",
       "\n",
       "\n",
       "- a: There are three items in this list. Nothing tricky yet.\n",
       "- b: The list `[2, 3]` counts as a single item. It has one item before it. So we have 2 items in the list\n",
       "- c: The empty list has 0 items\n",
       "- d: The expression is the same as the list `[2, 3]`, which has length 2."
      ],
      "text/plain": [
       "Correct: \n",
       "\n",
       "\n",
       "- a: There are three items in this list. Nothing tricky yet.\n",
       "- b: The list `[2, 3]` counts as a single item. It has one item before it. So we have 2 items in the list\n",
       "- c: The empty list has 0 items\n",
       "- d: The expression is the same as the list `[2, 3]`, which has length 2."
      ]
     },
     "metadata": {},
     "output_type": "display_data"
    }
   ],
   "source": [
    "a = [1, 2, 3]\n",
    "b = [1, [2, 3]]\n",
    "c = []\n",
    "d = [1, 2, 3][1:]\n",
    "\n",
    "# Put your predictions in the list below. Lengths should contain 4 numbers, the\n",
    "# first being the length of a, the second being the length of b and so on.\n",
    "lengths = [3,2,0,2]\n",
    "\n",
    "# Check your answer\n",
    "q4.check()"
   ]
  },
  {
   "cell_type": "code",
   "execution_count": 9,
   "id": "0b38d39f",
   "metadata": {
    "collapsed": true,
    "execution": {
     "iopub.execute_input": "2023-02-20T18:08:21.254724Z",
     "iopub.status.busy": "2023-02-20T18:08:21.254119Z",
     "iopub.status.idle": "2023-02-20T18:08:21.258518Z",
     "shell.execute_reply": "2023-02-20T18:08:21.257574Z"
    },
    "jupyter": {
     "outputs_hidden": true
    },
    "papermill": {
     "duration": 0.01428,
     "end_time": "2023-02-20T18:08:21.260703",
     "exception": false,
     "start_time": "2023-02-20T18:08:21.246423",
     "status": "completed"
    },
    "tags": []
   },
   "outputs": [],
   "source": [
    "# line below provides some explanation\n",
    "#q4.solution()"
   ]
  },
  {
   "cell_type": "markdown",
   "id": "9d77a7c4",
   "metadata": {
    "papermill": {
     "duration": 0.006002,
     "end_time": "2023-02-20T18:08:21.272990",
     "exception": false,
     "start_time": "2023-02-20T18:08:21.266988",
     "status": "completed"
    },
    "tags": []
   },
   "source": [
    "# 5. <span title=\"A bit spicy\" style=\"color: darkgreen \">🌶️</span>\n",
    "\n",
    "We're using lists to record people who attended our party and what order they arrived in. For example, the following list represents a party with 7 guests, in which Adela showed up first and Ford was the last to arrive:\n",
    "\n",
    "    party_attendees = ['Adela', 'Fleda', 'Owen', 'May', 'Mona', 'Gilbert', 'Ford']\n",
    "\n",
    "A guest is considered 'fashionably late' if they arrived after at least half of the party's guests. However, they must not be the very last guest (that's taking it too far). In the above example, Mona and Gilbert are the only guests who were fashionably late.\n",
    "\n",
    "Complete the function below which takes a list of party attendees as well as a person, and tells us whether that person is fashionably late."
   ]
  },
  {
   "cell_type": "code",
   "execution_count": 10,
   "id": "8e287098",
   "metadata": {
    "execution": {
     "iopub.execute_input": "2023-02-20T18:08:21.287657Z",
     "iopub.status.busy": "2023-02-20T18:08:21.286970Z",
     "iopub.status.idle": "2023-02-20T18:08:21.304859Z",
     "shell.execute_reply": "2023-02-20T18:08:21.303786Z"
    },
    "papermill": {
     "duration": 0.027931,
     "end_time": "2023-02-20T18:08:21.307177",
     "exception": false,
     "start_time": "2023-02-20T18:08:21.279246",
     "status": "completed"
    },
    "tags": []
   },
   "outputs": [
    {
     "data": {
      "application/javascript": [
       "parent.postMessage({\"jupyterEvent\": \"custom.exercise_interaction\", \"data\": {\"outcomeType\": 1, \"valueTowardsCompletion\": 0.2, \"interactionType\": 1, \"questionType\": 2, \"questionId\": \"5_FashionablyLate\", \"learnToolsVersion\": \"0.3.4\", \"failureMessage\": \"\", \"exceptionClass\": \"\", \"trace\": \"\"}}, \"*\")"
      ],
      "text/plain": [
       "<IPython.core.display.Javascript object>"
      ]
     },
     "metadata": {},
     "output_type": "display_data"
    },
    {
     "data": {
      "text/markdown": [
       "<span style=\"color:#33cc33\">Correct</span>"
      ],
      "text/plain": [
       "Correct"
      ]
     },
     "metadata": {},
     "output_type": "display_data"
    }
   ],
   "source": [
    "def fashionably_late(arrivals, name):\n",
    "    lenght = (len(arrivals)//2)\n",
    "    if lenght % 2 == 1:\n",
    "        lenght += 1\n",
    "    list_2 = arrivals[lenght:len(arrivals) - 1]\n",
    "    if list_2.count(name) == 1:\n",
    "        return True\n",
    "    else:\n",
    "        return False\n",
    "    \n",
    "\n",
    "q5.check()"
   ]
  },
  {
   "cell_type": "code",
   "execution_count": 11,
   "id": "5acf4204",
   "metadata": {
    "collapsed": true,
    "execution": {
     "iopub.execute_input": "2023-02-20T18:08:21.321625Z",
     "iopub.status.busy": "2023-02-20T18:08:21.321223Z",
     "iopub.status.idle": "2023-02-20T18:08:21.326007Z",
     "shell.execute_reply": "2023-02-20T18:08:21.324731Z"
    },
    "jupyter": {
     "outputs_hidden": true
    },
    "papermill": {
     "duration": 0.014937,
     "end_time": "2023-02-20T18:08:21.328466",
     "exception": false,
     "start_time": "2023-02-20T18:08:21.313529",
     "status": "completed"
    },
    "tags": []
   },
   "outputs": [],
   "source": [
    "#q5.hint()\n",
    "#q5.solution()"
   ]
  },
  {
   "cell_type": "markdown",
   "id": "6d2c9fcd",
   "metadata": {
    "papermill": {
     "duration": 0.006237,
     "end_time": "2023-02-20T18:08:21.341257",
     "exception": false,
     "start_time": "2023-02-20T18:08:21.335020",
     "status": "completed"
    },
    "tags": []
   },
   "source": [
    "# Keep Going\n",
    "\n",
    "That's it for lists and tuples! Now you have the baseline knowledge to **[learn about loops](https://www.kaggle.com/colinmorris/loops-and-list-comprehensions)**, which is where lists and tuples get really interesting. "
   ]
  },
  {
   "cell_type": "markdown",
   "id": "d91b4331",
   "metadata": {
    "papermill": {
     "duration": 0.006257,
     "end_time": "2023-02-20T18:08:21.354024",
     "exception": false,
     "start_time": "2023-02-20T18:08:21.347767",
     "status": "completed"
    },
    "tags": []
   },
   "source": [
    "---\n",
    "\n",
    "\n",
    "\n",
    "\n",
    "*Have questions or comments? Visit the [course discussion forum](https://www.kaggle.com/learn/python/discussion) to chat with other learners.*"
   ]
  }
 ],
 "metadata": {
  "kernelspec": {
   "display_name": "Python 3",
   "language": "python",
   "name": "python3"
  },
  "language_info": {
   "codemirror_mode": {
    "name": "ipython",
    "version": 3
   },
   "file_extension": ".py",
   "mimetype": "text/x-python",
   "name": "python",
   "nbconvert_exporter": "python",
   "pygments_lexer": "ipython3",
   "version": "3.7.12"
  },
  "papermill": {
   "default_parameters": {},
   "duration": 9.503421,
   "end_time": "2023-02-20T18:08:21.982439",
   "environment_variables": {},
   "exception": null,
   "input_path": "__notebook__.ipynb",
   "output_path": "__notebook__.ipynb",
   "parameters": {},
   "start_time": "2023-02-20T18:08:12.479018",
   "version": "2.3.4"
  }
 },
 "nbformat": 4,
 "nbformat_minor": 5
}
