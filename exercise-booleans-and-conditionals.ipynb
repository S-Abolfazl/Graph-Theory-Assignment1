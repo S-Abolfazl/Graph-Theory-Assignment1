{
 "cells": [
  {
   "cell_type": "markdown",
   "id": "d7fcd26b",
   "metadata": {
    "papermill": {
     "duration": 0.010373,
     "end_time": "2023-02-20T18:07:04.906133",
     "exception": false,
     "start_time": "2023-02-20T18:07:04.895760",
     "status": "completed"
    },
    "tags": []
   },
   "source": [
    "**This notebook is an exercise in the [Python](https://www.kaggle.com/learn/python) course.  You can reference the tutorial at [this link](https://www.kaggle.com/colinmorris/booleans-and-conditionals).**\n",
    "\n",
    "---\n"
   ]
  },
  {
   "cell_type": "markdown",
   "id": "c29f2038",
   "metadata": {
    "papermill": {
     "duration": 0.008312,
     "end_time": "2023-02-20T18:07:04.923561",
     "exception": false,
     "start_time": "2023-02-20T18:07:04.915249",
     "status": "completed"
    },
    "tags": []
   },
   "source": [
    "In this exercise, you'll put to work what you have learned about booleans and conditionals.\n",
    "\n",
    "To get started, **run the setup code below** before writing your own code (and if you leave this notebook and come back later, don't forget to run the setup code again)."
   ]
  },
  {
   "cell_type": "code",
   "execution_count": 1,
   "id": "2d95cd66",
   "metadata": {
    "execution": {
     "iopub.execute_input": "2023-02-20T18:07:04.942456Z",
     "iopub.status.busy": "2023-02-20T18:07:04.941952Z",
     "iopub.status.idle": "2023-02-20T18:07:04.988745Z",
     "shell.execute_reply": "2023-02-20T18:07:04.987525Z"
    },
    "papermill": {
     "duration": 0.06037,
     "end_time": "2023-02-20T18:07:04.992532",
     "exception": false,
     "start_time": "2023-02-20T18:07:04.932162",
     "status": "completed"
    },
    "tags": []
   },
   "outputs": [
    {
     "name": "stdout",
     "output_type": "stream",
     "text": [
      "Setup complete.\n"
     ]
    }
   ],
   "source": [
    "from learntools.core import binder; binder.bind(globals())\n",
    "from learntools.python.ex3 import *\n",
    "print('Setup complete.')"
   ]
  },
  {
   "cell_type": "markdown",
   "id": "aad5875e",
   "metadata": {
    "papermill": {
     "duration": 0.008822,
     "end_time": "2023-02-20T18:07:05.010544",
     "exception": false,
     "start_time": "2023-02-20T18:07:05.001722",
     "status": "completed"
    },
    "tags": []
   },
   "source": [
    "# 1.\n",
    "\n",
    "Many programming languages have [`sign`](https://en.wikipedia.org/wiki/Sign_function) available as a built-in function. Python doesn't, but we can define our own!\n",
    "\n",
    "In the cell below, define a function called `sign` which takes a numerical argument and returns -1 if it's negative, 1 if it's positive, and 0 if it's 0."
   ]
  },
  {
   "cell_type": "code",
   "execution_count": 2,
   "id": "6805d0a7",
   "metadata": {
    "execution": {
     "iopub.execute_input": "2023-02-20T18:07:05.029922Z",
     "iopub.status.busy": "2023-02-20T18:07:05.029544Z",
     "iopub.status.idle": "2023-02-20T18:07:05.041798Z",
     "shell.execute_reply": "2023-02-20T18:07:05.040617Z"
    },
    "papermill": {
     "duration": 0.024692,
     "end_time": "2023-02-20T18:07:05.044216",
     "exception": false,
     "start_time": "2023-02-20T18:07:05.019524",
     "status": "completed"
    },
    "tags": []
   },
   "outputs": [
    {
     "data": {
      "application/javascript": [
       "parent.postMessage({\"jupyterEvent\": \"custom.exercise_interaction\", \"data\": {\"outcomeType\": 1, \"valueTowardsCompletion\": 0.2, \"interactionType\": 1, \"questionType\": 2, \"questionId\": \"1_SignFunctionProblem\", \"learnToolsVersion\": \"0.3.4\", \"failureMessage\": \"\", \"exceptionClass\": \"\", \"trace\": \"\"}}, \"*\")"
      ],
      "text/plain": [
       "<IPython.core.display.Javascript object>"
      ]
     },
     "metadata": {},
     "output_type": "display_data"
    },
    {
     "data": {
      "text/markdown": [
       "<span style=\"color:#33cc33\">Correct</span>"
      ],
      "text/plain": [
       "Correct"
      ]
     },
     "metadata": {},
     "output_type": "display_data"
    }
   ],
   "source": [
    "# Your code goes here. Define a function called 'sign'\n",
    "def sign(num):\n",
    "    if num > 0:\n",
    "        return 1\n",
    "    elif num == 0:\n",
    "        return 0\n",
    "    else: \n",
    "        return -1\n",
    "# Check your answer\n",
    "q1.check()"
   ]
  },
  {
   "cell_type": "code",
   "execution_count": 3,
   "id": "170820ab",
   "metadata": {
    "execution": {
     "iopub.execute_input": "2023-02-20T18:07:05.064231Z",
     "iopub.status.busy": "2023-02-20T18:07:05.063860Z",
     "iopub.status.idle": "2023-02-20T18:07:05.068397Z",
     "shell.execute_reply": "2023-02-20T18:07:05.067165Z"
    },
    "papermill": {
     "duration": 0.017169,
     "end_time": "2023-02-20T18:07:05.070587",
     "exception": false,
     "start_time": "2023-02-20T18:07:05.053418",
     "status": "completed"
    },
    "tags": []
   },
   "outputs": [],
   "source": [
    "#q1.solution()"
   ]
  },
  {
   "cell_type": "markdown",
   "id": "81282609",
   "metadata": {
    "papermill": {
     "duration": 0.00891,
     "end_time": "2023-02-20T18:07:05.088926",
     "exception": false,
     "start_time": "2023-02-20T18:07:05.080016",
     "status": "completed"
    },
    "tags": []
   },
   "source": [
    "# 2.\n",
    "\n",
    "We've decided to add \"logging\" to our `to_smash` function from the previous exercise."
   ]
  },
  {
   "cell_type": "code",
   "execution_count": 4,
   "id": "9416c7d7",
   "metadata": {
    "execution": {
     "iopub.execute_input": "2023-02-20T18:07:05.108479Z",
     "iopub.status.busy": "2023-02-20T18:07:05.108085Z",
     "iopub.status.idle": "2023-02-20T18:07:05.124556Z",
     "shell.execute_reply": "2023-02-20T18:07:05.123063Z"
    },
    "papermill": {
     "duration": 0.029398,
     "end_time": "2023-02-20T18:07:05.127420",
     "exception": false,
     "start_time": "2023-02-20T18:07:05.098022",
     "status": "completed"
    },
    "tags": []
   },
   "outputs": [
    {
     "name": "stdout",
     "output_type": "stream",
     "text": [
      "Splitting 91 candies\n"
     ]
    },
    {
     "data": {
      "text/plain": [
       "1"
      ]
     },
     "execution_count": 4,
     "metadata": {},
     "output_type": "execute_result"
    }
   ],
   "source": [
    "def to_smash(total_candies):\n",
    "    \"\"\"Return the number of leftover candies that must be smashed after distributing\n",
    "    the given number of candies evenly between 3 friends.\n",
    "    \n",
    "    >>> to_smash(91)\n",
    "    1\n",
    "    \"\"\"\n",
    "    print(\"Splitting\", total_candies, \"candies\")\n",
    "    return total_candies % 3\n",
    "\n",
    "to_smash(91)"
   ]
  },
  {
   "cell_type": "markdown",
   "id": "b41a930a",
   "metadata": {
    "papermill": {
     "duration": 0.008782,
     "end_time": "2023-02-20T18:07:05.145516",
     "exception": false,
     "start_time": "2023-02-20T18:07:05.136734",
     "status": "completed"
    },
    "tags": []
   },
   "source": [
    "What happens if we call it with `total_candies = 1`?"
   ]
  },
  {
   "cell_type": "code",
   "execution_count": 5,
   "id": "ac56eea4",
   "metadata": {
    "execution": {
     "iopub.execute_input": "2023-02-20T18:07:05.165392Z",
     "iopub.status.busy": "2023-02-20T18:07:05.164979Z",
     "iopub.status.idle": "2023-02-20T18:07:05.173125Z",
     "shell.execute_reply": "2023-02-20T18:07:05.171686Z"
    },
    "papermill": {
     "duration": 0.020789,
     "end_time": "2023-02-20T18:07:05.175455",
     "exception": false,
     "start_time": "2023-02-20T18:07:05.154666",
     "status": "completed"
    },
    "tags": []
   },
   "outputs": [
    {
     "name": "stdout",
     "output_type": "stream",
     "text": [
      "Splitting 1 candies\n"
     ]
    },
    {
     "data": {
      "text/plain": [
       "1"
      ]
     },
     "execution_count": 5,
     "metadata": {},
     "output_type": "execute_result"
    }
   ],
   "source": [
    "to_smash(1)"
   ]
  },
  {
   "cell_type": "markdown",
   "id": "6132f905",
   "metadata": {
    "papermill": {
     "duration": 0.008963,
     "end_time": "2023-02-20T18:07:05.193929",
     "exception": false,
     "start_time": "2023-02-20T18:07:05.184966",
     "status": "completed"
    },
    "tags": []
   },
   "source": [
    "That isn't great grammar!\n",
    "\n",
    "Modify the definition in the cell below to correct the grammar of our print statement. (If there's only one candy, we should use the singular \"candy\" instead of the plural \"candies\")"
   ]
  },
  {
   "cell_type": "code",
   "execution_count": 6,
   "id": "7827c0b6",
   "metadata": {
    "execution": {
     "iopub.execute_input": "2023-02-20T18:07:05.214609Z",
     "iopub.status.busy": "2023-02-20T18:07:05.214217Z",
     "iopub.status.idle": "2023-02-20T18:07:05.223115Z",
     "shell.execute_reply": "2023-02-20T18:07:05.222005Z"
    },
    "papermill": {
     "duration": 0.02199,
     "end_time": "2023-02-20T18:07:05.225390",
     "exception": false,
     "start_time": "2023-02-20T18:07:05.203400",
     "status": "completed"
    },
    "tags": []
   },
   "outputs": [
    {
     "name": "stdout",
     "output_type": "stream",
     "text": [
      "Splitting 91 candies\n",
      "Splitting 1 candy\n"
     ]
    },
    {
     "data": {
      "text/plain": [
       "1"
      ]
     },
     "execution_count": 6,
     "metadata": {},
     "output_type": "execute_result"
    }
   ],
   "source": [
    "def to_smash(total_candies):\n",
    "    \"\"\"Return the number of leftover candies that must be smashed after distributing\n",
    "    the given number of candies evenly between 3 friends.\n",
    "    \n",
    "    >>> to_smash(91)\n",
    "    1\n",
    "    \"\"\"\n",
    "    var = ''\n",
    "    if total_candies == 1:\n",
    "        var = \"candy\"\n",
    "    else:\n",
    "        var = \"candies\"\n",
    "    print(\"Splitting\", total_candies, var)\n",
    "    return total_candies % 3\n",
    "\n",
    "to_smash(91)\n",
    "to_smash(1)"
   ]
  },
  {
   "cell_type": "markdown",
   "id": "e1fe50e8",
   "metadata": {
    "papermill": {
     "duration": 0.009662,
     "end_time": "2023-02-20T18:07:05.244587",
     "exception": false,
     "start_time": "2023-02-20T18:07:05.234925",
     "status": "completed"
    },
    "tags": []
   },
   "source": [
    "To get credit for completing this problem, and to see the official answer, run the code cell below."
   ]
  },
  {
   "cell_type": "code",
   "execution_count": 7,
   "id": "4b74e9db",
   "metadata": {
    "execution": {
     "iopub.execute_input": "2023-02-20T18:07:05.265421Z",
     "iopub.status.busy": "2023-02-20T18:07:05.264979Z",
     "iopub.status.idle": "2023-02-20T18:07:05.273857Z",
     "shell.execute_reply": "2023-02-20T18:07:05.272800Z"
    },
    "papermill": {
     "duration": 0.021962,
     "end_time": "2023-02-20T18:07:05.276239",
     "exception": false,
     "start_time": "2023-02-20T18:07:05.254277",
     "status": "completed"
    },
    "tags": []
   },
   "outputs": [
    {
     "data": {
      "application/javascript": [
       "parent.postMessage({\"jupyterEvent\": \"custom.exercise_interaction\", \"data\": {\"interactionType\": 3, \"questionType\": 4, \"questionId\": \"2_PluralizationProblem\", \"learnToolsVersion\": \"0.3.4\", \"valueTowardsCompletion\": 0.0, \"failureMessage\": \"\", \"exceptionClass\": \"\", \"trace\": \"\", \"outcomeType\": 4}}, \"*\")"
      ],
      "text/plain": [
       "<IPython.core.display.Javascript object>"
      ]
     },
     "metadata": {},
     "output_type": "display_data"
    },
    {
     "data": {
      "text/markdown": [
       "<span style=\"color:#33cc99\">Solution:</span> A straightforward (and totally fine) solution is to replace the original `print` call with:\n",
       "\n",
       "```python\n",
       "if total_candies == 1:\n",
       "    print(\"Splitting 1 candy\")\n",
       "else:\n",
       "    print(\"Splitting\", total_candies, \"candies\")\n",
       "```\n",
       "\n",
       "Here's a slightly more succinct solution using a conditional expression:\n",
       "\n",
       "```python\n",
       "print(\"Splitting\", total_candies, \"candy\" if total_candies == 1 else \"candies\")\n",
       "```"
      ],
      "text/plain": [
       "Solution: A straightforward (and totally fine) solution is to replace the original `print` call with:\n",
       "\n",
       "```python\n",
       "if total_candies == 1:\n",
       "    print(\"Splitting 1 candy\")\n",
       "else:\n",
       "    print(\"Splitting\", total_candies, \"candies\")\n",
       "```\n",
       "\n",
       "Here's a slightly more succinct solution using a conditional expression:\n",
       "\n",
       "```python\n",
       "print(\"Splitting\", total_candies, \"candy\" if total_candies == 1 else \"candies\")\n",
       "```"
      ]
     },
     "metadata": {},
     "output_type": "display_data"
    }
   ],
   "source": [
    "# Check your answer (Run this code cell to receive credit!)\n",
    "q2.solution()"
   ]
  },
  {
   "cell_type": "markdown",
   "id": "05aab1aa",
   "metadata": {
    "papermill": {
     "duration": 0.009515,
     "end_time": "2023-02-20T18:07:05.295912",
     "exception": false,
     "start_time": "2023-02-20T18:07:05.286397",
     "status": "completed"
    },
    "tags": []
   },
   "source": [
    "# 3. <span title=\"A bit spicy\" style=\"color: darkgreen \">🌶️</span>\n",
    "\n",
    "In the tutorial, we talked about deciding whether we're prepared for the weather. I said that I'm safe from today's weather if...\n",
    "- I have an umbrella...\n",
    "- or if the rain isn't too heavy and I have a hood...\n",
    "- otherwise, I'm still fine unless it's raining *and* it's a workday\n",
    "\n",
    "The function below uses our first attempt at turning this logic into a Python expression. I claimed that there was a bug in that code. Can you find it?\n",
    "\n",
    "To prove that `prepared_for_weather` is buggy, come up with a set of inputs where either:\n",
    "- the function returns `False` (but should have returned `True`), or\n",
    "- the function returned `True` (but should have returned `False`).\n",
    "\n",
    "To get credit for completing this question, your code should return a <font color='#33cc33'>Correct</font> result."
   ]
  },
  {
   "cell_type": "code",
   "execution_count": 8,
   "id": "7dd2cab5",
   "metadata": {
    "execution": {
     "iopub.execute_input": "2023-02-20T18:07:05.317116Z",
     "iopub.status.busy": "2023-02-20T18:07:05.316713Z",
     "iopub.status.idle": "2023-02-20T18:07:05.329241Z",
     "shell.execute_reply": "2023-02-20T18:07:05.327893Z"
    },
    "papermill": {
     "duration": 0.025747,
     "end_time": "2023-02-20T18:07:05.331493",
     "exception": false,
     "start_time": "2023-02-20T18:07:05.305746",
     "status": "completed"
    },
    "tags": []
   },
   "outputs": [
    {
     "name": "stdout",
     "output_type": "stream",
     "text": [
      "False\n"
     ]
    },
    {
     "data": {
      "application/javascript": [
       "parent.postMessage({\"jupyterEvent\": \"custom.exercise_interaction\", \"data\": {\"outcomeType\": 2, \"failureMessage\": \"Given `have_umbrella=True`, `rain_level=0.0`, `have_hood=True`, `is_workday=True`, `prepared_for_weather` returned `True`. But I think that's correct. (We want inputs that lead to an incorrect result from `prepared_for_weather`.)\", \"interactionType\": 1, \"questionType\": 1, \"questionId\": \"3_WeatherDebug\", \"learnToolsVersion\": \"0.3.4\", \"valueTowardsCompletion\": 0.0, \"exceptionClass\": \"\", \"trace\": \"\"}}, \"*\")"
      ],
      "text/plain": [
       "<IPython.core.display.Javascript object>"
      ]
     },
     "metadata": {},
     "output_type": "display_data"
    },
    {
     "data": {
      "text/markdown": [
       "<span style=\"color:#cc3333\">Incorrect:</span> Given `have_umbrella=True`, `rain_level=0.0`, `have_hood=True`, `is_workday=True`, `prepared_for_weather` returned `True`. But I think that's correct. (We want inputs that lead to an incorrect result from `prepared_for_weather`.)"
      ],
      "text/plain": [
       "Incorrect: Given `have_umbrella=True`, `rain_level=0.0`, `have_hood=True`, `is_workday=True`, `prepared_for_weather` returned `True`. But I think that's correct. (We want inputs that lead to an incorrect result from `prepared_for_weather`.)"
      ]
     },
     "metadata": {},
     "output_type": "display_data"
    }
   ],
   "source": [
    "def prepared_for_weather(have_umbrella, rain_level, have_hood, is_workday):\n",
    "    # Don't change this code. Our goal is just to find the bug, not fix it!\n",
    "     return ((have_umbrella or rain_level < 5) or have_hood) and (rain_level > 0 and is_workday)\n",
    "# Change the values of these inputs so they represent a case where prepared_for_weather\n",
    "# returns the wrong answer.\n",
    "have_umbrella = True\n",
    "rain_level = 0.0\n",
    "have_hood = True\n",
    "is_workday = True\n",
    "\n",
    "# Check what the function returns given the current values of the variables above\n",
    "actual = prepared_for_weather(have_umbrella, rain_level, have_hood, is_workday)\n",
    "print(actual)\n",
    "\n",
    "# Check your answer\n",
    "q3.check()"
   ]
  },
  {
   "cell_type": "markdown",
   "id": "733d2874",
   "metadata": {
    "papermill": {
     "duration": 0.009997,
     "end_time": "2023-02-20T18:07:05.351924",
     "exception": false,
     "start_time": "2023-02-20T18:07:05.341927",
     "status": "completed"
    },
    "tags": []
   },
   "source": [
    "# 4.\n",
    "\n",
    "The function `is_negative` below is implemented correctly - it returns True if the given number is negative and False otherwise.\n",
    "\n",
    "However, it's more verbose than it needs to be. We can actually reduce the number of lines of code in this function by *75%* while keeping the same behaviour. \n",
    "\n",
    "See if you can come up with an equivalent body that uses just **one line** of code, and put it in the function `concise_is_negative`. (HINT: you don't even need Python's ternary syntax)"
   ]
  },
  {
   "cell_type": "code",
   "execution_count": 9,
   "id": "a4754784",
   "metadata": {
    "execution": {
     "iopub.execute_input": "2023-02-20T18:07:05.374579Z",
     "iopub.status.busy": "2023-02-20T18:07:05.374181Z",
     "iopub.status.idle": "2023-02-20T18:07:05.386798Z",
     "shell.execute_reply": "2023-02-20T18:07:05.385905Z"
    },
    "papermill": {
     "duration": 0.026321,
     "end_time": "2023-02-20T18:07:05.388939",
     "exception": false,
     "start_time": "2023-02-20T18:07:05.362618",
     "status": "completed"
    },
    "tags": []
   },
   "outputs": [
    {
     "data": {
      "application/javascript": [
       "parent.postMessage({\"jupyterEvent\": \"custom.exercise_interaction\", \"data\": {\"interactionType\": 2, \"questionType\": 1, \"questionId\": \"3_WeatherDebug\", \"learnToolsVersion\": \"0.3.4\", \"valueTowardsCompletion\": 0.0, \"failureMessage\": \"\", \"exceptionClass\": \"\", \"trace\": \"\", \"outcomeType\": 4}}, \"*\")"
      ],
      "text/plain": [
       "<IPython.core.display.Javascript object>"
      ]
     },
     "metadata": {},
     "output_type": "display_data"
    },
    {
     "data": {
      "text/markdown": [
       "<span style=\"color:#3366cc\">Hint:</span> Take a look at how we fixed our original expression in the main lesson. We added parentheses around certain subexpressions. The bug in this code is caused by Python evaluating certain operations in the \"wrong\" order."
      ],
      "text/plain": [
       "Hint: Take a look at how we fixed our original expression in the main lesson. We added parentheses around certain subexpressions. The bug in this code is caused by Python evaluating certain operations in the \"wrong\" order."
      ]
     },
     "metadata": {},
     "output_type": "display_data"
    },
    {
     "data": {
      "application/javascript": [
       "parent.postMessage({\"jupyterEvent\": \"custom.exercise_interaction\", \"data\": {\"interactionType\": 3, \"questionType\": 1, \"questionId\": \"3_WeatherDebug\", \"learnToolsVersion\": \"0.3.4\", \"valueTowardsCompletion\": 0.0, \"failureMessage\": \"\", \"exceptionClass\": \"\", \"trace\": \"\", \"outcomeType\": 4}}, \"*\")"
      ],
      "text/plain": [
       "<IPython.core.display.Javascript object>"
      ]
     },
     "metadata": {},
     "output_type": "display_data"
    },
    {
     "data": {
      "text/markdown": [
       "<span style=\"color:#33cc99\">Solution:</span> One example of a failing test case is:\n",
       "\n",
       "```python\n",
       "have_umbrella = False\n",
       "rain_level = 0.0\n",
       "have_hood = False\n",
       "is_workday = False\n",
       "```\n",
       "\n",
       "Clearly we're prepared for the weather in this case. It's not raining. Not only that, it's not a workday, so we don't even need to leave the house! But our function will return False on these inputs.\n",
       "\n",
       "The key problem is that Python implictly parenthesizes the last part as:\n",
       "\n",
       "```python\n",
       "(not (rain_level > 0)) and is_workday\n",
       "```\n",
       "\n",
       "Whereas what we were trying to express would look more like:\n",
       "\n",
       "```python\n",
       "not (rain_level > 0 and is_workday)\n",
       "```\n"
      ],
      "text/plain": [
       "Solution: One example of a failing test case is:\n",
       "\n",
       "```python\n",
       "have_umbrella = False\n",
       "rain_level = 0.0\n",
       "have_hood = False\n",
       "is_workday = False\n",
       "```\n",
       "\n",
       "Clearly we're prepared for the weather in this case. It's not raining. Not only that, it's not a workday, so we don't even need to leave the house! But our function will return False on these inputs.\n",
       "\n",
       "The key problem is that Python implictly parenthesizes the last part as:\n",
       "\n",
       "```python\n",
       "(not (rain_level > 0)) and is_workday\n",
       "```\n",
       "\n",
       "Whereas what we were trying to express would look more like:\n",
       "\n",
       "```python\n",
       "not (rain_level > 0 and is_workday)\n",
       "```"
      ]
     },
     "metadata": {},
     "output_type": "display_data"
    }
   ],
   "source": [
    "q3.hint()\n",
    "q3.solution()"
   ]
  },
  {
   "cell_type": "code",
   "execution_count": 10,
   "id": "62e81731",
   "metadata": {
    "execution": {
     "iopub.execute_input": "2023-02-20T18:07:05.412546Z",
     "iopub.status.busy": "2023-02-20T18:07:05.412108Z",
     "iopub.status.idle": "2023-02-20T18:07:05.422245Z",
     "shell.execute_reply": "2023-02-20T18:07:05.421119Z"
    },
    "papermill": {
     "duration": 0.025286,
     "end_time": "2023-02-20T18:07:05.425149",
     "exception": false,
     "start_time": "2023-02-20T18:07:05.399863",
     "status": "completed"
    },
    "tags": []
   },
   "outputs": [
    {
     "data": {
      "application/javascript": [
       "parent.postMessage({\"jupyterEvent\": \"custom.exercise_interaction\", \"data\": {\"outcomeType\": 1, \"valueTowardsCompletion\": 0.2, \"interactionType\": 1, \"questionType\": 2, \"questionId\": \"4_ConciseIsNegative\", \"learnToolsVersion\": \"0.3.4\", \"failureMessage\": \"\", \"exceptionClass\": \"\", \"trace\": \"\"}}, \"*\")"
      ],
      "text/plain": [
       "<IPython.core.display.Javascript object>"
      ]
     },
     "metadata": {},
     "output_type": "display_data"
    },
    {
     "data": {
      "text/markdown": [
       "<span style=\"color:#33cc33\">Correct</span>"
      ],
      "text/plain": [
       "Correct"
      ]
     },
     "metadata": {},
     "output_type": "display_data"
    }
   ],
   "source": [
    "def is_negative(number):\n",
    "    if number < 0:\n",
    "        return True\n",
    "    else:\n",
    "        return False\n",
    "\n",
    "def concise_is_negative(number):\n",
    "    return number < 0 \n",
    "# Your code goes here (try to keep it to one line!)\n",
    "\n",
    "# Check your answer\n",
    "q4.check()"
   ]
  },
  {
   "cell_type": "code",
   "execution_count": 11,
   "id": "f234bbbc",
   "metadata": {
    "execution": {
     "iopub.execute_input": "2023-02-20T18:07:05.449971Z",
     "iopub.status.busy": "2023-02-20T18:07:05.449559Z",
     "iopub.status.idle": "2023-02-20T18:07:05.453521Z",
     "shell.execute_reply": "2023-02-20T18:07:05.452640Z"
    },
    "papermill": {
     "duration": 0.018835,
     "end_time": "2023-02-20T18:07:05.455608",
     "exception": false,
     "start_time": "2023-02-20T18:07:05.436773",
     "status": "completed"
    },
    "tags": []
   },
   "outputs": [],
   "source": [
    "#q4.hint()\n",
    "#q4.solution()"
   ]
  },
  {
   "cell_type": "markdown",
   "id": "228e97f0",
   "metadata": {
    "papermill": {
     "duration": 0.010851,
     "end_time": "2023-02-20T18:07:05.478008",
     "exception": false,
     "start_time": "2023-02-20T18:07:05.467157",
     "status": "completed"
    },
    "tags": []
   },
   "source": [
    "# 5a.\n",
    "\n",
    "The boolean variables `ketchup`, `mustard` and `onion` represent whether a customer wants a particular topping on their hot dog. We want to implement a number of boolean functions that correspond to some yes-or-no questions about the customer's order. For example:"
   ]
  },
  {
   "cell_type": "code",
   "execution_count": 12,
   "id": "0b4b783b",
   "metadata": {
    "execution": {
     "iopub.execute_input": "2023-02-20T18:07:05.502236Z",
     "iopub.status.busy": "2023-02-20T18:07:05.501462Z",
     "iopub.status.idle": "2023-02-20T18:07:05.506232Z",
     "shell.execute_reply": "2023-02-20T18:07:05.505392Z"
    },
    "papermill": {
     "duration": 0.019469,
     "end_time": "2023-02-20T18:07:05.508539",
     "exception": false,
     "start_time": "2023-02-20T18:07:05.489070",
     "status": "completed"
    },
    "tags": []
   },
   "outputs": [],
   "source": [
    "def onionless(ketchup, mustard, onion):\n",
    "    \"\"\"Return whether the customer doesn't want onions.\n",
    "    \"\"\"\n",
    "    return not onion"
   ]
  },
  {
   "cell_type": "code",
   "execution_count": 13,
   "id": "6440cd46",
   "metadata": {
    "execution": {
     "iopub.execute_input": "2023-02-20T18:07:05.534031Z",
     "iopub.status.busy": "2023-02-20T18:07:05.533259Z",
     "iopub.status.idle": "2023-02-20T18:07:05.543558Z",
     "shell.execute_reply": "2023-02-20T18:07:05.541272Z"
    },
    "papermill": {
     "duration": 0.025847,
     "end_time": "2023-02-20T18:07:05.545808",
     "exception": false,
     "start_time": "2023-02-20T18:07:05.519961",
     "status": "completed"
    },
    "tags": []
   },
   "outputs": [
    {
     "data": {
      "application/javascript": [
       "parent.postMessage({\"jupyterEvent\": \"custom.exercise_interaction\", \"data\": {\"outcomeType\": 1, \"valueTowardsCompletion\": 0.2, \"interactionType\": 1, \"questionType\": 2, \"questionId\": \"5.1_AllToppings\", \"learnToolsVersion\": \"0.3.4\", \"failureMessage\": \"\", \"exceptionClass\": \"\", \"trace\": \"\"}}, \"*\")"
      ],
      "text/plain": [
       "<IPython.core.display.Javascript object>"
      ]
     },
     "metadata": {},
     "output_type": "display_data"
    },
    {
     "data": {
      "text/markdown": [
       "<span style=\"color:#33cc33\">Correct</span>"
      ],
      "text/plain": [
       "Correct"
      ]
     },
     "metadata": {},
     "output_type": "display_data"
    }
   ],
   "source": [
    "def wants_all_toppings(ketchup, mustard, onion):\n",
    "    \"\"\"Return whether the customer wants \"the works\" (all 3 toppings)\n",
    "    \"\"\"\n",
    "    return (ketchup and mustard and onion)\n",
    "\n",
    "# Check your answer\n",
    "q5.a.check()"
   ]
  },
  {
   "cell_type": "code",
   "execution_count": 14,
   "id": "c88f0ad7",
   "metadata": {
    "execution": {
     "iopub.execute_input": "2023-02-20T18:07:05.570555Z",
     "iopub.status.busy": "2023-02-20T18:07:05.569917Z",
     "iopub.status.idle": "2023-02-20T18:07:05.573509Z",
     "shell.execute_reply": "2023-02-20T18:07:05.572773Z"
    },
    "papermill": {
     "duration": 0.018432,
     "end_time": "2023-02-20T18:07:05.575669",
     "exception": false,
     "start_time": "2023-02-20T18:07:05.557237",
     "status": "completed"
    },
    "tags": []
   },
   "outputs": [],
   "source": [
    "#q5.a.hint()\n",
    "#q5.a.solution()"
   ]
  },
  {
   "cell_type": "markdown",
   "id": "5e5fcd19",
   "metadata": {
    "papermill": {
     "duration": 0.011547,
     "end_time": "2023-02-20T18:07:05.598498",
     "exception": false,
     "start_time": "2023-02-20T18:07:05.586951",
     "status": "completed"
    },
    "tags": []
   },
   "source": [
    "# 5b.\n",
    "\n",
    "For the next function, fill in the body to match the English description in the docstring. "
   ]
  },
  {
   "cell_type": "code",
   "execution_count": 15,
   "id": "4090c23f",
   "metadata": {
    "execution": {
     "iopub.execute_input": "2023-02-20T18:07:05.623099Z",
     "iopub.status.busy": "2023-02-20T18:07:05.622688Z",
     "iopub.status.idle": "2023-02-20T18:07:05.631736Z",
     "shell.execute_reply": "2023-02-20T18:07:05.630679Z"
    },
    "papermill": {
     "duration": 0.024105,
     "end_time": "2023-02-20T18:07:05.633986",
     "exception": false,
     "start_time": "2023-02-20T18:07:05.609881",
     "status": "completed"
    },
    "tags": []
   },
   "outputs": [
    {
     "data": {
      "application/javascript": [
       "parent.postMessage({\"jupyterEvent\": \"custom.exercise_interaction\", \"data\": {\"outcomeType\": 1, \"valueTowardsCompletion\": 0.2, \"interactionType\": 1, \"questionType\": 2, \"questionId\": \"5.2_PlainDog\", \"learnToolsVersion\": \"0.3.4\", \"failureMessage\": \"\", \"exceptionClass\": \"\", \"trace\": \"\"}}, \"*\")"
      ],
      "text/plain": [
       "<IPython.core.display.Javascript object>"
      ]
     },
     "metadata": {},
     "output_type": "display_data"
    },
    {
     "data": {
      "text/markdown": [
       "<span style=\"color:#33cc33\">Correct:</span> \n",
       "\n",
       "One solution looks like:\n",
       "```python\n",
       "return not ketchup and not mustard and not onion\n",
       "```\n",
       "\n",
       "We can also [\"factor out\" the nots](https://en.wikipedia.org/wiki/De_Morgan%27s_laws) to get:\n",
       "\n",
       "```python\n",
       "return not (ketchup or mustard or onion)\n",
       "```"
      ],
      "text/plain": [
       "Correct: \n",
       "\n",
       "One solution looks like:\n",
       "```python\n",
       "return not ketchup and not mustard and not onion\n",
       "```\n",
       "\n",
       "We can also [\"factor out\" the nots](https://en.wikipedia.org/wiki/De_Morgan%27s_laws) to get:\n",
       "\n",
       "```python\n",
       "return not (ketchup or mustard or onion)\n",
       "```"
      ]
     },
     "metadata": {},
     "output_type": "display_data"
    }
   ],
   "source": [
    "def wants_plain_hotdog(ketchup, mustard, onion):\n",
    "    \"\"\"Return whether the customer wants a plain hot dog with no toppings.\n",
    "    \"\"\"\n",
    "    return ((not ketchup) and (not mustard) and (not onion))\n",
    "\n",
    "# Check your answer\n",
    "q5.b.check()"
   ]
  },
  {
   "cell_type": "code",
   "execution_count": 16,
   "id": "998ca867",
   "metadata": {
    "execution": {
     "iopub.execute_input": "2023-02-20T18:07:05.659697Z",
     "iopub.status.busy": "2023-02-20T18:07:05.659300Z",
     "iopub.status.idle": "2023-02-20T18:07:05.663669Z",
     "shell.execute_reply": "2023-02-20T18:07:05.662544Z"
    },
    "papermill": {
     "duration": 0.019859,
     "end_time": "2023-02-20T18:07:05.665841",
     "exception": false,
     "start_time": "2023-02-20T18:07:05.645982",
     "status": "completed"
    },
    "tags": []
   },
   "outputs": [],
   "source": [
    "#q5.b.hint()\n",
    "#q5.b.solution()"
   ]
  },
  {
   "cell_type": "markdown",
   "id": "8129357c",
   "metadata": {
    "papermill": {
     "duration": 0.011328,
     "end_time": "2023-02-20T18:07:05.688965",
     "exception": false,
     "start_time": "2023-02-20T18:07:05.677637",
     "status": "completed"
    },
    "tags": []
   },
   "source": [
    "# 5c.\n",
    "\n",
    "You know what to do: for the next function, fill in the body to match the English description in the docstring."
   ]
  },
  {
   "cell_type": "code",
   "execution_count": 17,
   "id": "6f0c0f46",
   "metadata": {
    "execution": {
     "iopub.execute_input": "2023-02-20T18:07:05.713974Z",
     "iopub.status.busy": "2023-02-20T18:07:05.713597Z",
     "iopub.status.idle": "2023-02-20T18:07:05.723268Z",
     "shell.execute_reply": "2023-02-20T18:07:05.722039Z"
    },
    "papermill": {
     "duration": 0.024939,
     "end_time": "2023-02-20T18:07:05.725581",
     "exception": false,
     "start_time": "2023-02-20T18:07:05.700642",
     "status": "completed"
    },
    "tags": []
   },
   "outputs": [
    {
     "data": {
      "application/javascript": [
       "parent.postMessage({\"jupyterEvent\": \"custom.exercise_interaction\", \"data\": {\"outcomeType\": 1, \"valueTowardsCompletion\": 0.2, \"interactionType\": 1, \"questionType\": 2, \"questionId\": \"5.3_OneSauce\", \"learnToolsVersion\": \"0.3.4\", \"failureMessage\": \"\", \"exceptionClass\": \"\", \"trace\": \"\"}}, \"*\")"
      ],
      "text/plain": [
       "<IPython.core.display.Javascript object>"
      ]
     },
     "metadata": {},
     "output_type": "display_data"
    },
    {
     "data": {
      "text/markdown": [
       "<span style=\"color:#33cc33\">Correct</span>"
      ],
      "text/plain": [
       "Correct"
      ]
     },
     "metadata": {},
     "output_type": "display_data"
    }
   ],
   "source": [
    "def exactly_one_sauce(ketchup, mustard, onion):\n",
    "    \"\"\"Return whether the customer wants either ketchup or mustard, but not both.\n",
    "    (You may be familiar with this operation under the name \"exclusive or\")\n",
    "    \"\"\"\n",
    "    return (((ketchup and not mustard) and onion) or ((not ketchup and mustard) and onion)) or ((ketchup and not mustard) or (not ketchup and mustard) )\n",
    "    \n",
    "# Check your answer\n",
    "q5.c.check()"
   ]
  },
  {
   "cell_type": "code",
   "execution_count": 18,
   "id": "4e8aaa50",
   "metadata": {
    "execution": {
     "iopub.execute_input": "2023-02-20T18:07:05.751811Z",
     "iopub.status.busy": "2023-02-20T18:07:05.750585Z",
     "iopub.status.idle": "2023-02-20T18:07:05.755329Z",
     "shell.execute_reply": "2023-02-20T18:07:05.754572Z"
    },
    "papermill": {
     "duration": 0.019923,
     "end_time": "2023-02-20T18:07:05.757375",
     "exception": false,
     "start_time": "2023-02-20T18:07:05.737452",
     "status": "completed"
    },
    "tags": []
   },
   "outputs": [],
   "source": [
    "#q5.c.hint()\n",
    "#q5.c.solution()"
   ]
  },
  {
   "cell_type": "markdown",
   "id": "4d063cb0",
   "metadata": {
    "papermill": {
     "duration": 0.011542,
     "end_time": "2023-02-20T18:07:05.780820",
     "exception": false,
     "start_time": "2023-02-20T18:07:05.769278",
     "status": "completed"
    },
    "tags": []
   },
   "source": [
    "# 6. <span title=\"A bit spicy\" style=\"color: darkgreen \">🌶️</span>\n",
    "\n",
    "We’ve seen that calling `bool()` on an integer returns `False` if it’s equal to 0 and `True` otherwise. What happens if we call `int()` on a bool? Try it out in the notebook cell below.\n",
    "\n",
    "Can you take advantage of this to write a succinct function that corresponds to the English sentence \"does the customer want exactly one topping?\"?"
   ]
  },
  {
   "cell_type": "code",
   "execution_count": 19,
   "id": "6cac42b2",
   "metadata": {
    "execution": {
     "iopub.execute_input": "2023-02-20T18:07:05.806763Z",
     "iopub.status.busy": "2023-02-20T18:07:05.805703Z",
     "iopub.status.idle": "2023-02-20T18:07:05.814711Z",
     "shell.execute_reply": "2023-02-20T18:07:05.813819Z"
    },
    "papermill": {
     "duration": 0.024012,
     "end_time": "2023-02-20T18:07:05.816659",
     "exception": false,
     "start_time": "2023-02-20T18:07:05.792647",
     "status": "completed"
    },
    "tags": []
   },
   "outputs": [
    {
     "data": {
      "application/javascript": [
       "parent.postMessage({\"jupyterEvent\": \"custom.exercise_interaction\", \"data\": {\"outcomeType\": 1, \"valueTowardsCompletion\": 0.2, \"interactionType\": 1, \"questionType\": 2, \"questionId\": \"6_OneTopping\", \"learnToolsVersion\": \"0.3.4\", \"failureMessage\": \"\", \"exceptionClass\": \"\", \"trace\": \"\"}}, \"*\")"
      ],
      "text/plain": [
       "<IPython.core.display.Javascript object>"
      ]
     },
     "metadata": {},
     "output_type": "display_data"
    },
    {
     "data": {
      "text/markdown": [
       "<span style=\"color:#33cc33\">Correct:</span> \n",
       "\n",
       "This condition would be pretty complicated to express using just `and`, `or` and `not`, but using boolean-to-integer conversion gives us this short solution:\n",
       "```python\n",
       "return (int(ketchup) + int(mustard) + int(onion)) == 1\n",
       "```\n",
       "\n",
       "Fun fact: we don't technically need to call `int` on the arguments. Just by doing addition with booleans, Python implicitly does the integer conversion. So we could also write...\n",
       "\n",
       "```python\n",
       "return (ketchup + mustard + onion) == 1\n",
       "```"
      ],
      "text/plain": [
       "Correct: \n",
       "\n",
       "This condition would be pretty complicated to express using just `and`, `or` and `not`, but using boolean-to-integer conversion gives us this short solution:\n",
       "```python\n",
       "return (int(ketchup) + int(mustard) + int(onion)) == 1\n",
       "```\n",
       "\n",
       "Fun fact: we don't technically need to call `int` on the arguments. Just by doing addition with booleans, Python implicitly does the integer conversion. So we could also write...\n",
       "\n",
       "```python\n",
       "return (ketchup + mustard + onion) == 1\n",
       "```"
      ]
     },
     "metadata": {},
     "output_type": "display_data"
    }
   ],
   "source": [
    "def exactly_one_topping(ketchup, mustard, onion):\n",
    "    \"\"\"Return whether the customer wants exactly one of the three available toppings\n",
    "    on their hot dog.\n",
    "    \"\"\"\n",
    "    return (int(ketchup) + int(mustard) + int(onion)) == 1\n",
    "\n",
    "\n",
    "# Check your answer\n",
    "q6.check()"
   ]
  },
  {
   "cell_type": "code",
   "execution_count": 20,
   "id": "828f90ad",
   "metadata": {
    "execution": {
     "iopub.execute_input": "2023-02-20T18:07:05.843404Z",
     "iopub.status.busy": "2023-02-20T18:07:05.842959Z",
     "iopub.status.idle": "2023-02-20T18:07:05.847054Z",
     "shell.execute_reply": "2023-02-20T18:07:05.846189Z"
    },
    "papermill": {
     "duration": 0.020337,
     "end_time": "2023-02-20T18:07:05.849280",
     "exception": false,
     "start_time": "2023-02-20T18:07:05.828943",
     "status": "completed"
    },
    "tags": []
   },
   "outputs": [],
   "source": [
    "#q6.hint()\n",
    "#q6.solution()"
   ]
  },
  {
   "cell_type": "markdown",
   "id": "b17a01ff",
   "metadata": {
    "papermill": {
     "duration": 0.012259,
     "end_time": "2023-02-20T18:07:05.873834",
     "exception": false,
     "start_time": "2023-02-20T18:07:05.861575",
     "status": "completed"
    },
    "tags": []
   },
   "source": [
    "# 7. <span title=\"A bit spicy\" style=\"color: darkgreen \">🌶️</span> (Optional)\n",
    "\n",
    "In this problem we'll be working with a simplified version of [blackjack](https://en.wikipedia.org/wiki/Blackjack) (aka twenty-one). In this version there is one player (who you'll control) and a dealer. Play proceeds as follows:\n",
    "\n",
    "- The player is dealt two face-up cards. The dealer is dealt one face-up card.\n",
    "- The player may ask to be dealt another card ('hit') as many times as they wish. If the sum of their cards exceeds 21, they lose the round immediately.\n",
    "- The dealer then deals additional cards to himself until either:\n",
    "    - the sum of the dealer's cards exceeds 21, in which case the player wins the round\n",
    "    - the sum of the dealer's cards is greater than or equal to 17. If the player's total is greater than the dealer's, the player wins. Otherwise, the dealer wins (even in case of a tie).\n",
    "    \n",
    "When calculating the sum of cards, Jack, Queen, and King count for 10. Aces can count as 1 or 11 (when referring to a player's \"total\" above, we mean the largest total that can be made without exceeding 21. So e.g. A+8 = 19, A+8+8 = 17)\n",
    "\n",
    "For this problem, you'll write a function representing the player's decision-making strategy in this game. We've provided a very unintelligent implementation below:"
   ]
  },
  {
   "cell_type": "code",
   "execution_count": 21,
   "id": "519d0f2d",
   "metadata": {
    "execution": {
     "iopub.execute_input": "2023-02-20T18:07:05.900503Z",
     "iopub.status.busy": "2023-02-20T18:07:05.899759Z",
     "iopub.status.idle": "2023-02-20T18:07:05.905241Z",
     "shell.execute_reply": "2023-02-20T18:07:05.904491Z"
    },
    "papermill": {
     "duration": 0.021384,
     "end_time": "2023-02-20T18:07:05.907443",
     "exception": false,
     "start_time": "2023-02-20T18:07:05.886059",
     "status": "completed"
    },
    "tags": []
   },
   "outputs": [],
   "source": [
    "# import random as rand\n",
    "def should_hit(dealer_total, player_total, player_low_aces, player_high_aces):\n",
    "    \"\"\"Return True if the player should hit (request another card) given the current game\n",
    "    state, or False if the player should stay.\n",
    "    When calculating a hand's total value, we count aces as \"high\" (with value 11) if doing so\n",
    "    doesn't bring the total above 21, otherwise we count them as low (with value 1). \n",
    "    For example, if the player's hand is {A, A, A, 7}, we will count it as 11 + 1 + 1 + 7,\n",
    "    and therefore set player_total=20, player_low_aces=2, player_high_aces=1.\n",
    "    \"\"\"\n",
    "    \n",
    "    return False"
   ]
  },
  {
   "cell_type": "markdown",
   "id": "11a75911",
   "metadata": {
    "papermill": {
     "duration": 0.012157,
     "end_time": "2023-02-20T18:07:05.931926",
     "exception": false,
     "start_time": "2023-02-20T18:07:05.919769",
     "status": "completed"
    },
    "tags": []
   },
   "source": [
    "This very conservative agent *always* sticks with the hand of two cards that they're dealt.\n",
    "\n",
    "We'll be simulating games between your player agent and our own dealer agent by calling your function.\n",
    "\n",
    "Try running the function below to see an example of a simulated game:"
   ]
  },
  {
   "cell_type": "code",
   "execution_count": 22,
   "id": "e2967d59",
   "metadata": {
    "execution": {
     "iopub.execute_input": "2023-02-20T18:07:05.958891Z",
     "iopub.status.busy": "2023-02-20T18:07:05.958227Z",
     "iopub.status.idle": "2023-02-20T18:07:05.964758Z",
     "shell.execute_reply": "2023-02-20T18:07:05.963058Z"
    },
    "papermill": {
     "duration": 0.023175,
     "end_time": "2023-02-20T18:07:05.967650",
     "exception": false,
     "start_time": "2023-02-20T18:07:05.944475",
     "status": "completed"
    },
    "tags": []
   },
   "outputs": [
    {
     "name": "stdout",
     "output_type": "stream",
     "text": [
      "Player starts with 9 and 6 (total = 15)\n",
      "Dealer starts with K\n",
      "\n",
      "__Player's turn__\n",
      "Player stays\n",
      "\n",
      "__Dealer's turn__\n",
      "Dealer hits and receives 7. (total = 17)\n",
      "Dealer stands.\n",
      "Dealer wins. 17 >= 15\n"
     ]
    }
   ],
   "source": [
    "q7.simulate_one_game()"
   ]
  },
  {
   "cell_type": "markdown",
   "id": "eba64c7c",
   "metadata": {
    "papermill": {
     "duration": 0.012179,
     "end_time": "2023-02-20T18:07:05.992774",
     "exception": false,
     "start_time": "2023-02-20T18:07:05.980595",
     "status": "completed"
    },
    "tags": []
   },
   "source": [
    "The real test of your agent's mettle is their average win rate over many games. Try calling the function below to simulate 50000 games of blackjack (it may take a couple seconds):"
   ]
  },
  {
   "cell_type": "code",
   "execution_count": 23,
   "id": "a7255597",
   "metadata": {
    "execution": {
     "iopub.execute_input": "2023-02-20T18:07:06.020633Z",
     "iopub.status.busy": "2023-02-20T18:07:06.020246Z",
     "iopub.status.idle": "2023-02-20T18:07:07.678199Z",
     "shell.execute_reply": "2023-02-20T18:07:07.676618Z"
    },
    "papermill": {
     "duration": 1.67514,
     "end_time": "2023-02-20T18:07:07.681077",
     "exception": false,
     "start_time": "2023-02-20T18:07:06.005937",
     "status": "completed"
    },
    "tags": []
   },
   "outputs": [
    {
     "name": "stdout",
     "output_type": "stream",
     "text": [
      "Player won 19020 out of 50000 games (win rate = 38.0%)\n"
     ]
    }
   ],
   "source": [
    "q7.simulate(n_games=50000)"
   ]
  },
  {
   "cell_type": "markdown",
   "id": "c75e36ab",
   "metadata": {
    "papermill": {
     "duration": 0.012379,
     "end_time": "2023-02-20T18:07:07.706356",
     "exception": false,
     "start_time": "2023-02-20T18:07:07.693977",
     "status": "completed"
    },
    "tags": []
   },
   "source": [
    "Our dumb agent that completely ignores the game state still manages to win shockingly often!\n",
    "\n",
    "Try adding some more smarts to the `should_hit` function and see how it affects the results."
   ]
  },
  {
   "cell_type": "code",
   "execution_count": 24,
   "id": "a42a1460",
   "metadata": {
    "execution": {
     "iopub.execute_input": "2023-02-20T18:07:07.733512Z",
     "iopub.status.busy": "2023-02-20T18:07:07.733073Z",
     "iopub.status.idle": "2023-02-20T18:07:09.631713Z",
     "shell.execute_reply": "2023-02-20T18:07:09.630206Z"
    },
    "papermill": {
     "duration": 1.915091,
     "end_time": "2023-02-20T18:07:09.634163",
     "exception": false,
     "start_time": "2023-02-20T18:07:07.719072",
     "status": "completed"
    },
    "tags": []
   },
   "outputs": [
    {
     "name": "stdout",
     "output_type": "stream",
     "text": [
      "Player won 21084 out of 50000 games (win rate = 42.2%)\n"
     ]
    }
   ],
   "source": [
    "\n",
    "def should_hit(dealer_total, player_total, player_low_aces, player_high_aces):\n",
    "    if player_total >= 21:\n",
    "        return False\n",
    "    elif player_total < 13:\n",
    "        return True\n",
    "    elif player_total == 13:\n",
    "        if dealer_total in [2, 3, 4, 5]:\n",
    "             return False\n",
    "        else:\n",
    "             return True\n",
    "    elif player_total == 14:\n",
    "         if dealer_total in [2, 3, 4, 5, 6]:\n",
    "            return False\n",
    "         else:\n",
    "            return True\n",
    "    elif player_total == 15:\n",
    "         if dealer_total in [2, 3, 4, 5, 6, 7]:\n",
    "            return False\n",
    "         else:\n",
    "            return True\n",
    "    elif player_total == 16:\n",
    "         if dealer_total in [2, 3, 4, 5, 6, 7, 8]:\n",
    "            return False\n",
    "         else:\n",
    "            return True\n",
    "    elif player_total == 17:\n",
    "         if dealer_total in [2, 3, 4, 5, 6, 7, 8, 9, 10]:\n",
    "            return False\n",
    "         else:\n",
    "            return True\n",
    "    elif player_total == 18:\n",
    "         if dealer_total in [2, 3, 4, 5, 6, 7, 8, 9, 10, 11]:\n",
    "            return False\n",
    "         else:\n",
    "            return True\n",
    "    elif player_total == 19:\n",
    "         if dealer_total in [6, 7, 8, 9, 10, 11]:\n",
    "            return False\n",
    "         elif player_low_aces >= 1:\n",
    "            return True\n",
    "         else:\n",
    "            return False\n",
    "    elif player_total == 20:\n",
    "         if player_low_aces >= 1:\n",
    "            return True\n",
    "         elif dealer_total >= 11:\n",
    "            return False\n",
    "    elif player_total < dealer_total:\n",
    "        return True\n",
    "    else:\n",
    "        return False\n",
    "   \n",
    "    \n",
    "q7.simulate(n_games=50000)"
   ]
  },
  {
   "cell_type": "markdown",
   "id": "06912652",
   "metadata": {
    "papermill": {
     "duration": 0.013017,
     "end_time": "2023-02-20T18:07:09.659842",
     "exception": false,
     "start_time": "2023-02-20T18:07:09.646825",
     "status": "completed"
    },
    "tags": []
   },
   "source": [
    "# Keep Going\n",
    "\n",
    "Learn about **[lists and tuples](https://www.kaggle.com/colinmorris/lists)** to handle multiple items of data in a systematic way."
   ]
  },
  {
   "cell_type": "markdown",
   "id": "d05d313f",
   "metadata": {
    "papermill": {
     "duration": 0.012308,
     "end_time": "2023-02-20T18:07:09.684744",
     "exception": false,
     "start_time": "2023-02-20T18:07:09.672436",
     "status": "completed"
    },
    "tags": []
   },
   "source": [
    "---\n",
    "\n",
    "\n",
    "\n",
    "\n",
    "*Have questions or comments? Visit the [course discussion forum](https://www.kaggle.com/learn/python/discussion) to chat with other learners.*"
   ]
  }
 ],
 "metadata": {
  "kernelspec": {
   "display_name": "Python 3",
   "language": "python",
   "name": "python3"
  },
  "language_info": {
   "codemirror_mode": {
    "name": "ipython",
    "version": 3
   },
   "file_extension": ".py",
   "mimetype": "text/x-python",
   "name": "python",
   "nbconvert_exporter": "python",
   "pygments_lexer": "ipython3",
   "version": "3.7.12"
  },
  "papermill": {
   "default_parameters": {},
   "duration": 13.589733,
   "end_time": "2023-02-20T18:07:10.318617",
   "environment_variables": {},
   "exception": null,
   "input_path": "__notebook__.ipynb",
   "output_path": "__notebook__.ipynb",
   "parameters": {},
   "start_time": "2023-02-20T18:06:56.728884",
   "version": "2.3.4"
  }
 },
 "nbformat": 4,
 "nbformat_minor": 5
}
