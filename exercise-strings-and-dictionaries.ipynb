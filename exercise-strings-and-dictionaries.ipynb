{
 "cells": [
  {
   "cell_type": "markdown",
   "id": "f2202eda",
   "metadata": {
    "papermill": {
     "duration": 0.010464,
     "end_time": "2023-02-20T18:10:19.075924",
     "exception": false,
     "start_time": "2023-02-20T18:10:19.065460",
     "status": "completed"
    },
    "tags": []
   },
   "source": [
    "**This notebook is an exercise in the [Python](https://www.kaggle.com/learn/python) course.  You can reference the tutorial at [this link](https://www.kaggle.com/colinmorris/strings-and-dictionaries).**\n",
    "\n",
    "---\n"
   ]
  },
  {
   "cell_type": "markdown",
   "id": "2bc0565e",
   "metadata": {
    "papermill": {
     "duration": 0.005134,
     "end_time": "2023-02-20T18:10:19.087002",
     "exception": false,
     "start_time": "2023-02-20T18:10:19.081868",
     "status": "completed"
    },
    "tags": []
   },
   "source": [
    "You are almost done with the course. Nice job!\n",
    "\n",
    "We have a couple more interesting problems for you before you go. \n",
    "\n",
    "As always, run the setup code below before working on the questions."
   ]
  },
  {
   "cell_type": "code",
   "execution_count": 1,
   "id": "f1afa833",
   "metadata": {
    "execution": {
     "iopub.execute_input": "2023-02-20T18:10:19.100967Z",
     "iopub.status.busy": "2023-02-20T18:10:19.100008Z",
     "iopub.status.idle": "2023-02-20T18:10:19.166960Z",
     "shell.execute_reply": "2023-02-20T18:10:19.164876Z"
    },
    "papermill": {
     "duration": 0.078712,
     "end_time": "2023-02-20T18:10:19.171334",
     "exception": false,
     "start_time": "2023-02-20T18:10:19.092622",
     "status": "completed"
    },
    "tags": []
   },
   "outputs": [
    {
     "name": "stdout",
     "output_type": "stream",
     "text": [
      "Setup complete.\n"
     ]
    }
   ],
   "source": [
    "from learntools.core import binder; binder.bind(globals())\n",
    "from learntools.python.ex6 import *\n",
    "print('Setup complete.')"
   ]
  },
  {
   "cell_type": "markdown",
   "id": "eff99582",
   "metadata": {
    "papermill": {
     "duration": 0.005885,
     "end_time": "2023-02-20T18:10:19.183440",
     "exception": false,
     "start_time": "2023-02-20T18:10:19.177555",
     "status": "completed"
    },
    "tags": []
   },
   "source": [
    "Let's start with a string lightning round to warm up. What are the lengths of the strings below?\n",
    "\n",
    "For each of the five strings below, predict what `len()` would return when passed that string. Use the variable `length` to record your answer, then run the cell to check whether you were right.  \n",
    "\n",
    "# 0a."
   ]
  },
  {
   "cell_type": "code",
   "execution_count": 2,
   "id": "1900db97",
   "metadata": {
    "execution": {
     "iopub.execute_input": "2023-02-20T18:10:19.197141Z",
     "iopub.status.busy": "2023-02-20T18:10:19.196669Z",
     "iopub.status.idle": "2023-02-20T18:10:19.208973Z",
     "shell.execute_reply": "2023-02-20T18:10:19.208120Z"
    },
    "papermill": {
     "duration": 0.021839,
     "end_time": "2023-02-20T18:10:19.211096",
     "exception": false,
     "start_time": "2023-02-20T18:10:19.189257",
     "status": "completed"
    },
    "tags": []
   },
   "outputs": [
    {
     "data": {
      "application/javascript": [
       "parent.postMessage({\"jupyterEvent\": \"custom.exercise_interaction\", \"data\": {\"outcomeType\": 1, \"valueTowardsCompletion\": 0.3333333333333333, \"interactionType\": 1, \"questionType\": 1, \"questionId\": \"0.1_ZA\", \"learnToolsVersion\": \"0.3.4\", \"failureMessage\": \"\", \"exceptionClass\": \"\", \"trace\": \"\"}}, \"*\")"
      ],
      "text/plain": [
       "<IPython.core.display.Javascript object>"
      ]
     },
     "metadata": {},
     "output_type": "display_data"
    },
    {
     "data": {
      "text/markdown": [
       "<span style=\"color:#33cc33\">Correct:</span> \n",
       "\n",
       "The empty string has length zero. Note that the empty string is also the only string that Python considers as False when converting to boolean."
      ],
      "text/plain": [
       "Correct: \n",
       "\n",
       "The empty string has length zero. Note that the empty string is also the only string that Python considers as False when converting to boolean."
      ]
     },
     "metadata": {},
     "output_type": "display_data"
    }
   ],
   "source": [
    "a = \"\"\n",
    "length = 0\n",
    "q0.a.check()"
   ]
  },
  {
   "cell_type": "markdown",
   "id": "25e5ec67",
   "metadata": {
    "papermill": {
     "duration": 0.005504,
     "end_time": "2023-02-20T18:10:19.222450",
     "exception": false,
     "start_time": "2023-02-20T18:10:19.216946",
     "status": "completed"
    },
    "tags": []
   },
   "source": [
    "# 0b."
   ]
  },
  {
   "cell_type": "code",
   "execution_count": 3,
   "id": "8748c317",
   "metadata": {
    "execution": {
     "iopub.execute_input": "2023-02-20T18:10:19.236516Z",
     "iopub.status.busy": "2023-02-20T18:10:19.236001Z",
     "iopub.status.idle": "2023-02-20T18:10:19.245401Z",
     "shell.execute_reply": "2023-02-20T18:10:19.244224Z"
    },
    "papermill": {
     "duration": 0.019438,
     "end_time": "2023-02-20T18:10:19.247671",
     "exception": false,
     "start_time": "2023-02-20T18:10:19.228233",
     "status": "completed"
    },
    "tags": []
   },
   "outputs": [
    {
     "data": {
      "application/javascript": [
       "parent.postMessage({\"jupyterEvent\": \"custom.exercise_interaction\", \"data\": {\"outcomeType\": 1, \"valueTowardsCompletion\": 0.3333333333333333, \"interactionType\": 1, \"questionType\": 1, \"questionId\": \"0.2_ZB\", \"learnToolsVersion\": \"0.3.4\", \"failureMessage\": \"\", \"exceptionClass\": \"\", \"trace\": \"\"}}, \"*\")"
      ],
      "text/plain": [
       "<IPython.core.display.Javascript object>"
      ]
     },
     "metadata": {},
     "output_type": "display_data"
    },
    {
     "data": {
      "text/markdown": [
       "<span style=\"color:#33cc33\">Correct:</span> \n",
       "\n",
       "Keep in mind Python includes spaces (and punctuation) when counting string length."
      ],
      "text/plain": [
       "Correct: \n",
       "\n",
       "Keep in mind Python includes spaces (and punctuation) when counting string length."
      ]
     },
     "metadata": {},
     "output_type": "display_data"
    }
   ],
   "source": [
    "b = \"it's ok\"\n",
    "length = 7\n",
    "q0.b.check()"
   ]
  },
  {
   "cell_type": "markdown",
   "id": "1c0a2489",
   "metadata": {
    "papermill": {
     "duration": 0.005905,
     "end_time": "2023-02-20T18:10:19.260462",
     "exception": false,
     "start_time": "2023-02-20T18:10:19.254557",
     "status": "completed"
    },
    "tags": []
   },
   "source": [
    "# 0c."
   ]
  },
  {
   "cell_type": "code",
   "execution_count": 4,
   "id": "d502f651",
   "metadata": {
    "execution": {
     "iopub.execute_input": "2023-02-20T18:10:19.276254Z",
     "iopub.status.busy": "2023-02-20T18:10:19.275332Z",
     "iopub.status.idle": "2023-02-20T18:10:19.284220Z",
     "shell.execute_reply": "2023-02-20T18:10:19.283273Z"
    },
    "papermill": {
     "duration": 0.019098,
     "end_time": "2023-02-20T18:10:19.286350",
     "exception": false,
     "start_time": "2023-02-20T18:10:19.267252",
     "status": "completed"
    },
    "tags": []
   },
   "outputs": [
    {
     "data": {
      "application/javascript": [
       "parent.postMessage({\"jupyterEvent\": \"custom.exercise_interaction\", \"data\": {\"outcomeType\": 1, \"valueTowardsCompletion\": 0.3333333333333333, \"interactionType\": 1, \"questionType\": 1, \"questionId\": \"0.3_ZC\", \"learnToolsVersion\": \"0.3.4\", \"failureMessage\": \"\", \"exceptionClass\": \"\", \"trace\": \"\"}}, \"*\")"
      ],
      "text/plain": [
       "<IPython.core.display.Javascript object>"
      ]
     },
     "metadata": {},
     "output_type": "display_data"
    },
    {
     "data": {
      "text/markdown": [
       "<span style=\"color:#33cc33\">Correct:</span> \n",
       "\n",
       "Even though we use different syntax to create it, the string `c` is identical to `b`. In particular, note that the backslash is not part of the string, so it doesn't contribute to its length."
      ],
      "text/plain": [
       "Correct: \n",
       "\n",
       "Even though we use different syntax to create it, the string `c` is identical to `b`. In particular, note that the backslash is not part of the string, so it doesn't contribute to its length."
      ]
     },
     "metadata": {},
     "output_type": "display_data"
    }
   ],
   "source": [
    "c = 'it\\'s ok'\n",
    "length = 7\n",
    "q0.c.check()"
   ]
  },
  {
   "cell_type": "markdown",
   "id": "25f4a1f7",
   "metadata": {
    "papermill": {
     "duration": 0.006641,
     "end_time": "2023-02-20T18:10:19.299700",
     "exception": false,
     "start_time": "2023-02-20T18:10:19.293059",
     "status": "completed"
    },
    "tags": []
   },
   "source": [
    "# 0d."
   ]
  },
  {
   "cell_type": "code",
   "execution_count": 5,
   "id": "cc6b72d9",
   "metadata": {
    "execution": {
     "iopub.execute_input": "2023-02-20T18:10:19.316280Z",
     "iopub.status.busy": "2023-02-20T18:10:19.315405Z",
     "iopub.status.idle": "2023-02-20T18:10:19.333828Z",
     "shell.execute_reply": "2023-02-20T18:10:19.332430Z"
    },
    "papermill": {
     "duration": 0.030398,
     "end_time": "2023-02-20T18:10:19.336727",
     "exception": false,
     "start_time": "2023-02-20T18:10:19.306329",
     "status": "completed"
    },
    "tags": []
   },
   "outputs": [
    {
     "data": {
      "application/javascript": [
       "parent.postMessage({\"jupyterEvent\": \"custom.exercise_interaction\", \"data\": {\"outcomeType\": 1, \"valueTowardsCompletion\": 0.3333333333333333, \"interactionType\": 1, \"questionType\": 1, \"questionId\": \"0.4_ZD\", \"learnToolsVersion\": \"0.3.4\", \"failureMessage\": \"\", \"exceptionClass\": \"\", \"trace\": \"\"}}, \"*\")"
      ],
      "text/plain": [
       "<IPython.core.display.Javascript object>"
      ]
     },
     "metadata": {},
     "output_type": "display_data"
    },
    {
     "data": {
      "text/markdown": [
       "<span style=\"color:#33cc33\">Correct:</span> \n",
       "\n",
       "The fact that this string was created using triple-quote syntax doesn't make any difference in terms of its content or length. This string is exactly the same as `'hey'`."
      ],
      "text/plain": [
       "Correct: \n",
       "\n",
       "The fact that this string was created using triple-quote syntax doesn't make any difference in terms of its content or length. This string is exactly the same as `'hey'`."
      ]
     },
     "metadata": {},
     "output_type": "display_data"
    }
   ],
   "source": [
    "d = \"\"\"hey\"\"\"\n",
    "length = 3\n",
    "q0.d.check()"
   ]
  },
  {
   "cell_type": "markdown",
   "id": "ad7bcb97",
   "metadata": {
    "papermill": {
     "duration": 0.006585,
     "end_time": "2023-02-20T18:10:19.350311",
     "exception": false,
     "start_time": "2023-02-20T18:10:19.343726",
     "status": "completed"
    },
    "tags": []
   },
   "source": [
    "# 0e."
   ]
  },
  {
   "cell_type": "code",
   "execution_count": 6,
   "id": "8301a040",
   "metadata": {
    "execution": {
     "iopub.execute_input": "2023-02-20T18:10:19.367170Z",
     "iopub.status.busy": "2023-02-20T18:10:19.366406Z",
     "iopub.status.idle": "2023-02-20T18:10:19.376116Z",
     "shell.execute_reply": "2023-02-20T18:10:19.374969Z"
    },
    "papermill": {
     "duration": 0.020981,
     "end_time": "2023-02-20T18:10:19.378620",
     "exception": false,
     "start_time": "2023-02-20T18:10:19.357639",
     "status": "completed"
    },
    "tags": []
   },
   "outputs": [
    {
     "data": {
      "application/javascript": [
       "parent.postMessage({\"jupyterEvent\": \"custom.exercise_interaction\", \"data\": {\"outcomeType\": 1, \"valueTowardsCompletion\": 0.3333333333333333, \"interactionType\": 1, \"questionType\": 1, \"questionId\": \"0.5_ZE\", \"learnToolsVersion\": \"0.3.4\", \"failureMessage\": \"\", \"exceptionClass\": \"\", \"trace\": \"\"}}, \"*\")"
      ],
      "text/plain": [
       "<IPython.core.display.Javascript object>"
      ]
     },
     "metadata": {},
     "output_type": "display_data"
    },
    {
     "data": {
      "text/markdown": [
       "<span style=\"color:#33cc33\">Correct:</span> \n",
       "\n",
       "The newline character is just a single character! (Even though we represent it to Python using a combination of two characters.)"
      ],
      "text/plain": [
       "Correct: \n",
       "\n",
       "The newline character is just a single character! (Even though we represent it to Python using a combination of two characters.)"
      ]
     },
     "metadata": {},
     "output_type": "display_data"
    }
   ],
   "source": [
    "e = '\\n'\n",
    "length = 1\n",
    "q0.e.check()"
   ]
  },
  {
   "cell_type": "markdown",
   "id": "d4f519ed",
   "metadata": {
    "papermill": {
     "duration": 0.006637,
     "end_time": "2023-02-20T18:10:19.392277",
     "exception": false,
     "start_time": "2023-02-20T18:10:19.385640",
     "status": "completed"
    },
    "tags": []
   },
   "source": [
    "# 1.\n",
    "\n",
    "There is a saying that \"Data scientists spend 80% of their time cleaning data, and 20% of their time complaining about cleaning data.\" Let's see if you can write a function to help clean US zip code data. Given a string, it should return whether or not that string represents a valid zip code. For our purposes, a valid zip code is any string consisting of exactly 5 digits.\n",
    "\n",
    "HINT: `str` has a method that will be useful here. Use `help(str)` to review a list of string methods."
   ]
  },
  {
   "cell_type": "code",
   "execution_count": 7,
   "id": "c5ad4608",
   "metadata": {
    "execution": {
     "iopub.execute_input": "2023-02-20T18:10:19.408752Z",
     "iopub.status.busy": "2023-02-20T18:10:19.407946Z",
     "iopub.status.idle": "2023-02-20T18:10:19.419779Z",
     "shell.execute_reply": "2023-02-20T18:10:19.418475Z"
    },
    "papermill": {
     "duration": 0.023702,
     "end_time": "2023-02-20T18:10:19.422776",
     "exception": false,
     "start_time": "2023-02-20T18:10:19.399074",
     "status": "completed"
    },
    "tags": []
   },
   "outputs": [
    {
     "data": {
      "application/javascript": [
       "parent.postMessage({\"jupyterEvent\": \"custom.exercise_interaction\", \"data\": {\"outcomeType\": 1, \"valueTowardsCompletion\": 0.3333333333333333, \"interactionType\": 1, \"questionType\": 2, \"questionId\": \"1_ZipValidator\", \"learnToolsVersion\": \"0.3.4\", \"failureMessage\": \"\", \"exceptionClass\": \"\", \"trace\": \"\"}}, \"*\")"
      ],
      "text/plain": [
       "<IPython.core.display.Javascript object>"
      ]
     },
     "metadata": {},
     "output_type": "display_data"
    },
    {
     "data": {
      "text/markdown": [
       "<span style=\"color:#33cc33\">Correct</span>"
      ],
      "text/plain": [
       "Correct"
      ]
     },
     "metadata": {},
     "output_type": "display_data"
    }
   ],
   "source": [
    "def is_valid_zip(zip_code):\n",
    "    \"\"\"Returns whether the input string is a valid (5 digit) zip code\n",
    "    \"\"\"\n",
    "    try:\n",
    "        if int(zip_code) >= 0 and len(zip_code) == 5:\n",
    "            return True\n",
    "        else:\n",
    "            return False\n",
    "    except:\n",
    "        return False\n",
    "        \n",
    "\n",
    "# Check your answer\n",
    "q1.check()"
   ]
  },
  {
   "cell_type": "code",
   "execution_count": 8,
   "id": "b022146b",
   "metadata": {
    "execution": {
     "iopub.execute_input": "2023-02-20T18:10:19.439945Z",
     "iopub.status.busy": "2023-02-20T18:10:19.439445Z",
     "iopub.status.idle": "2023-02-20T18:10:19.446495Z",
     "shell.execute_reply": "2023-02-20T18:10:19.445336Z"
    },
    "papermill": {
     "duration": 0.020069,
     "end_time": "2023-02-20T18:10:19.450177",
     "exception": false,
     "start_time": "2023-02-20T18:10:19.430108",
     "status": "completed"
    },
    "tags": []
   },
   "outputs": [
    {
     "name": "stdout",
     "output_type": "stream",
     "text": [
      "String before conversion:  spe,\n",
      "string after conversion: spe\n"
     ]
    }
   ],
   "source": [
    "#q1.hint()\n",
    "#q1.solution()\n",
    "# String with special characters \n",
    "special_string=\"spe,\"\n",
    "print(\"String before conversion: \",special_string)\n",
    "# Create a list with normal characters using the isalnum() method\n",
    "# use the join() function to convert the list to string\n",
    "normal_string=\"\".join(ch for ch in special_string if ch.isalnum())\n",
    "# print the normal string \n",
    "print(\"string after conversion:\",normal_string)"
   ]
  },
  {
   "cell_type": "markdown",
   "id": "344a6dc9",
   "metadata": {
    "papermill": {
     "duration": 0.006984,
     "end_time": "2023-02-20T18:10:19.465492",
     "exception": false,
     "start_time": "2023-02-20T18:10:19.458508",
     "status": "completed"
    },
    "tags": []
   },
   "source": [
    "# 2.\n",
    "\n",
    "A researcher has gathered thousands of news articles. But she wants to focus her attention on articles including a specific word. Complete the function below to help her filter her list of articles.\n",
    "\n",
    "Your function should meet the following criteria:\n",
    "\n",
    "- Do not include documents where the keyword string shows up only as a part of a larger word. For example, if she were looking for the keyword “closed”, you would not include the string “enclosed.” \n",
    "- She does not want you to distinguish upper case from lower case letters. So the phrase “Closed the case.” would be included when the keyword is “closed”\n",
    "- Do not let periods or commas affect what is matched. “It is closed.” would be included when the keyword is “closed”. But you can assume there are no other types of punctuation."
   ]
  },
  {
   "cell_type": "code",
   "execution_count": 9,
   "id": "2d88131a",
   "metadata": {
    "execution": {
     "iopub.execute_input": "2023-02-20T18:10:19.482050Z",
     "iopub.status.busy": "2023-02-20T18:10:19.481572Z",
     "iopub.status.idle": "2023-02-20T18:10:19.494299Z",
     "shell.execute_reply": "2023-02-20T18:10:19.493031Z"
    },
    "papermill": {
     "duration": 0.023999,
     "end_time": "2023-02-20T18:10:19.496604",
     "exception": false,
     "start_time": "2023-02-20T18:10:19.472605",
     "status": "completed"
    },
    "tags": []
   },
   "outputs": [
    {
     "data": {
      "application/javascript": [
       "parent.postMessage({\"jupyterEvent\": \"custom.exercise_interaction\", \"data\": {\"outcomeType\": 1, \"valueTowardsCompletion\": 0.3333333333333333, \"interactionType\": 1, \"questionType\": 2, \"questionId\": \"2_WordSearch\", \"learnToolsVersion\": \"0.3.4\", \"failureMessage\": \"\", \"exceptionClass\": \"\", \"trace\": \"\"}}, \"*\")"
      ],
      "text/plain": [
       "<IPython.core.display.Javascript object>"
      ]
     },
     "metadata": {},
     "output_type": "display_data"
    },
    {
     "data": {
      "text/markdown": [
       "<span style=\"color:#33cc33\">Correct</span>"
      ],
      "text/plain": [
       "Correct"
      ]
     },
     "metadata": {},
     "output_type": "display_data"
    }
   ],
   "source": [
    "def word_search(doc_list, keyword):\n",
    "    \"\"\"\n",
    "    Takes a list of documents (each document is a string) and a keyword. \n",
    "    Returns list of the index values into the original list for all documents \n",
    "    containing the keyword.\n",
    "\n",
    "    Example:\n",
    "    doc_list = [\"The Learn Python Challenge Casino.\", \"They bought a car\", \"Casinoville\"]\n",
    "    >>> word_search(doc_list, 'casino')\n",
    "    >>> [0]\n",
    "    \"\"\"\n",
    "    result = list()\n",
    "    for i in range(len(doc_list)):\n",
    "        words = doc_list[i].lower().split()\n",
    "        for j in range(len(words)):\n",
    "            words[j] = \"\".join(ch for ch in words[j] if ch.isalnum())\n",
    "        if keyword in words: \n",
    "            result.append(i) \n",
    "    return result\n",
    "q2.check()"
   ]
  },
  {
   "cell_type": "markdown",
   "id": "db44ba69",
   "metadata": {
    "papermill": {
     "duration": 0.007051,
     "end_time": "2023-02-20T18:10:19.511323",
     "exception": false,
     "start_time": "2023-02-20T18:10:19.504272",
     "status": "completed"
    },
    "tags": []
   },
   "source": [
    "# 3.\n",
    "\n",
    "Now the researcher wants to supply multiple keywords to search for. Complete the function below to help her.\n",
    "\n",
    "(You're encouraged to use the `word_search` function you just wrote when implementing this function. Reusing code in this way makes your programs more robust and readable - and it saves typing!)"
   ]
  },
  {
   "cell_type": "code",
   "execution_count": 10,
   "id": "32b46bb8",
   "metadata": {
    "execution": {
     "iopub.execute_input": "2023-02-20T18:10:19.528587Z",
     "iopub.status.busy": "2023-02-20T18:10:19.528134Z",
     "iopub.status.idle": "2023-02-20T18:10:19.535941Z",
     "shell.execute_reply": "2023-02-20T18:10:19.534751Z"
    },
    "papermill": {
     "duration": 0.020611,
     "end_time": "2023-02-20T18:10:19.539296",
     "exception": false,
     "start_time": "2023-02-20T18:10:19.518685",
     "status": "completed"
    },
    "tags": []
   },
   "outputs": [
    {
     "name": "stdout",
     "output_type": "stream",
     "text": [
      "{'casino': [0, 1], 'they': [1]}\n"
     ]
    }
   ],
   "source": [
    "def multi_word_search(doc_list, keywords):\n",
    "    \"\"\"\n",
    "    Takes list of documents (each document is a string) and a list of keywords.  \n",
    "    Returns a dictionary where each key is a keyword, and the value is a list of indices\n",
    "    (from doc_list) of the documents containing that keyword\n",
    "\n",
    "    >>> doc_list = [\"The Learn Python Challenge Casino.\", \"They bought a car and a casino\", \"Casinoville\"]\n",
    "    >>> keywords = ['casino', 'they']\n",
    "    >>> multi_word_search(doc_list, keywords)\n",
    "    {'casino': [0, 1], 'they': [1]}\n",
    "    \"\"\"\n",
    "    dic = dict()\n",
    "    for word in keywords:\n",
    "        dic[word] = word_search(doc_list, word)\n",
    "    return dic\n",
    "# Check your answer\n",
    "#q3.check()\n",
    "doc_list = [\"The Learn Python Challenge Casino.\", \"They bought a car and a casino\", \"Casinoville\"]\n",
    "keywords = ['casino', 'they']\n",
    "print(multi_word_search(doc_list, keywords))"
   ]
  },
  {
   "cell_type": "code",
   "execution_count": 11,
   "id": "ad1ef618",
   "metadata": {
    "execution": {
     "iopub.execute_input": "2023-02-20T18:10:19.557330Z",
     "iopub.status.busy": "2023-02-20T18:10:19.556825Z",
     "iopub.status.idle": "2023-02-20T18:10:19.562537Z",
     "shell.execute_reply": "2023-02-20T18:10:19.561057Z"
    },
    "papermill": {
     "duration": 0.017827,
     "end_time": "2023-02-20T18:10:19.565185",
     "exception": false,
     "start_time": "2023-02-20T18:10:19.547358",
     "status": "completed"
    },
    "tags": []
   },
   "outputs": [],
   "source": [
    "#q3.solution()"
   ]
  },
  {
   "cell_type": "markdown",
   "id": "b3e3e3ba",
   "metadata": {
    "papermill": {
     "duration": 0.007896,
     "end_time": "2023-02-20T18:10:19.581258",
     "exception": false,
     "start_time": "2023-02-20T18:10:19.573362",
     "status": "completed"
    },
    "tags": []
   },
   "source": [
    "# Keep Going\n",
    "\n",
    "You've learned a lot. But even the best programmers rely heavily on \"libraries\" of code from other programmers. You'll learn about that in **[the last lesson](https://www.kaggle.com/colinmorris/working-with-external-libraries)**.\n"
   ]
  },
  {
   "cell_type": "markdown",
   "id": "f9d73f7f",
   "metadata": {
    "papermill": {
     "duration": 0.007259,
     "end_time": "2023-02-20T18:10:19.596413",
     "exception": false,
     "start_time": "2023-02-20T18:10:19.589154",
     "status": "completed"
    },
    "tags": []
   },
   "source": [
    "---\n",
    "\n",
    "\n",
    "\n",
    "\n",
    "*Have questions or comments? Visit the [course discussion forum](https://www.kaggle.com/learn/python/discussion) to chat with other learners.*"
   ]
  }
 ],
 "metadata": {
  "kernelspec": {
   "display_name": "Python 3",
   "language": "python",
   "name": "python3"
  },
  "language_info": {
   "codemirror_mode": {
    "name": "ipython",
    "version": 3
   },
   "file_extension": ".py",
   "mimetype": "text/x-python",
   "name": "python",
   "nbconvert_exporter": "python",
   "pygments_lexer": "ipython3",
   "version": "3.7.12"
  },
  "papermill": {
   "default_parameters": {},
   "duration": 11.530445,
   "end_time": "2023-02-20T18:10:20.530718",
   "environment_variables": {},
   "exception": null,
   "input_path": "__notebook__.ipynb",
   "output_path": "__notebook__.ipynb",
   "parameters": {},
   "start_time": "2023-02-20T18:10:09.000273",
   "version": "2.3.4"
  }
 },
 "nbformat": 4,
 "nbformat_minor": 5
}
